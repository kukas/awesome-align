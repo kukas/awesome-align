{
 "cells": [
  {
   "cell_type": "code",
   "execution_count": 9,
   "id": "3667a8c8",
   "metadata": {},
   "outputs": [
    {
     "name": "stdout",
     "output_type": "stream",
     "text": [
      "The autoreload extension is already loaded. To reload it, use:\n",
      "  %reload_ext autoreload\n"
     ]
    }
   ],
   "source": [
    "%load_ext autoreload\n",
    "%autoreload 2"
   ]
  },
  {
   "cell_type": "code",
   "execution_count": 10,
   "id": "b259b39e",
   "metadata": {},
   "outputs": [],
   "source": [
    "from notebook_utils import load_results, plot_results, load_all_results, load_results_for_one_checkpoint"
   ]
  },
  {
   "cell_type": "code",
   "execution_count": 3,
   "id": "795859af",
   "metadata": {},
   "outputs": [
    {
     "name": "stderr",
     "output_type": "stream",
     "text": [
      "100%|███████████████████████████████████████████████████████████████████████████████████████████████████████████████████████████████████████████████████████████████████████████████████████████████████| 10854/10854 [04:23<00:00, 41.23it/s]"
     ]
    },
    {
     "name": "stdout",
     "output_type": "stream",
     "text": [
      "CPU times: user 3min 22s, sys: 3.93 s, total: 3min 26s\n",
      "Wall time: 4min 23s\n"
     ]
    },
    {
     "name": "stderr",
     "output_type": "stream",
     "text": [
      "\n"
     ]
    }
   ],
   "source": [
    "%%time\n",
    "results = load_all_results()"
   ]
  },
  {
   "cell_type": "code",
   "execution_count": 11,
   "id": "e6f08e62",
   "metadata": {},
   "outputs": [],
   "source": [
    "from glob import glob\n",
    "results_mbert = load_results_for_one_checkpoint(\"finetune/bert-base-multilingual-cased\", \"bert-base-multilingual-cased\", 0)"
   ]
  },
  {
   "cell_type": "code",
   "execution_count": 12,
   "id": "58438a57",
   "metadata": {},
   "outputs": [],
   "source": [
    "all_results = results+results_mbert"
   ]
  },
  {
   "cell_type": "code",
   "execution_count": 13,
   "id": "e05332c5",
   "metadata": {},
   "outputs": [],
   "source": [
    "import pandas as pd"
   ]
  },
  {
   "cell_type": "code",
   "execution_count": 14,
   "id": "07ad2c71",
   "metadata": {},
   "outputs": [],
   "source": [
    "df = pd.DataFrame(all_results)"
   ]
  },
  {
   "cell_type": "code",
   "execution_count": 15,
   "id": "c1c15f8c",
   "metadata": {},
   "outputs": [
    {
     "data": {
      "text/html": [
       "<div>\n",
       "<style scoped>\n",
       "    .dataframe tbody tr th:only-of-type {\n",
       "        vertical-align: middle;\n",
       "    }\n",
       "\n",
       "    .dataframe tbody tr th {\n",
       "        vertical-align: top;\n",
       "    }\n",
       "\n",
       "    .dataframe thead th {\n",
       "        text-align: right;\n",
       "    }\n",
       "</style>\n",
       "<table border=\"1\" class=\"dataframe\">\n",
       "  <thead>\n",
       "    <tr style=\"text-align: right;\">\n",
       "      <th></th>\n",
       "      <th>experiment_name</th>\n",
       "      <th>step</th>\n",
       "      <th>aer</th>\n",
       "      <th>precision</th>\n",
       "      <th>recall</th>\n",
       "      <th>f1</th>\n",
       "    </tr>\n",
       "  </thead>\n",
       "  <tbody>\n",
       "    <tr>\n",
       "      <th>0</th>\n",
       "      <td>bert-base-multilingual-cased</td>\n",
       "      <td>0</td>\n",
       "      <td>0.125252</td>\n",
       "      <td>0.855440</td>\n",
       "      <td>0.897458</td>\n",
       "      <td>0.875945</td>\n",
       "    </tr>\n",
       "    <tr>\n",
       "      <th>23</th>\n",
       "      <td>mbert_full8M_1epoch</td>\n",
       "      <td>16000</td>\n",
       "      <td>0.094378</td>\n",
       "      <td>0.895833</td>\n",
       "      <td>0.916740</td>\n",
       "      <td>0.906166</td>\n",
       "    </tr>\n",
       "    <tr>\n",
       "      <th>104</th>\n",
       "      <td>mbert_full8M_1epoch_finegrained_bs16</td>\n",
       "      <td>5200</td>\n",
       "      <td>0.095373</td>\n",
       "      <td>0.888889</td>\n",
       "      <td>0.922875</td>\n",
       "      <td>0.905563</td>\n",
       "    </tr>\n",
       "    <tr>\n",
       "      <th>158</th>\n",
       "      <td>mbert_multilingual_1M-per-lang</td>\n",
       "      <td>4000</td>\n",
       "      <td>0.092721</td>\n",
       "      <td>0.893778</td>\n",
       "      <td>0.922875</td>\n",
       "      <td>0.908094</td>\n",
       "    </tr>\n",
       "    <tr>\n",
       "      <th>905</th>\n",
       "      <td>mbert_multilingual_1M-per-lang_only_tlm</td>\n",
       "      <td>333000</td>\n",
       "      <td>0.106011</td>\n",
       "      <td>0.880394</td>\n",
       "      <td>0.909728</td>\n",
       "      <td>0.894821</td>\n",
       "    </tr>\n",
       "    <tr>\n",
       "      <th>912</th>\n",
       "      <td>mbert_multilingual_1M-per-lang_only_tlm_add_so</td>\n",
       "      <td>1200</td>\n",
       "      <td>0.089910</td>\n",
       "      <td>0.899013</td>\n",
       "      <td>0.922875</td>\n",
       "      <td>0.910788</td>\n",
       "    </tr>\n",
       "    <tr>\n",
       "      <th>1037</th>\n",
       "      <td>mbert_multilingual_1M-per-lang_only_tlm_add_so...</td>\n",
       "      <td>6200</td>\n",
       "      <td>0.088871</td>\n",
       "      <td>0.899390</td>\n",
       "      <td>0.924628</td>\n",
       "      <td>0.911834</td>\n",
       "    </tr>\n",
       "    <tr>\n",
       "      <th>1149</th>\n",
       "      <td>mbert_multilingual_1M-per-lang_only_tlm_add_so...</td>\n",
       "      <td>8600</td>\n",
       "      <td>0.088211</td>\n",
       "      <td>0.899166</td>\n",
       "      <td>0.926380</td>\n",
       "      <td>0.912570</td>\n",
       "    </tr>\n",
       "  </tbody>\n",
       "</table>\n",
       "</div>"
      ],
      "text/plain": [
       "                                        experiment_name    step       aer  \\\n",
       "0                          bert-base-multilingual-cased       0  0.125252   \n",
       "23                                  mbert_full8M_1epoch   16000  0.094378   \n",
       "104                mbert_full8M_1epoch_finegrained_bs16    5200  0.095373   \n",
       "158                      mbert_multilingual_1M-per-lang    4000  0.092721   \n",
       "905             mbert_multilingual_1M-per-lang_only_tlm  333000  0.106011   \n",
       "912      mbert_multilingual_1M-per-lang_only_tlm_add_so    1200  0.089910   \n",
       "1037  mbert_multilingual_1M-per-lang_only_tlm_add_so...    6200  0.088871   \n",
       "1149  mbert_multilingual_1M-per-lang_only_tlm_add_so...    8600  0.088211   \n",
       "\n",
       "      precision    recall        f1  \n",
       "0      0.855440  0.897458  0.875945  \n",
       "23     0.895833  0.916740  0.906166  \n",
       "104    0.888889  0.922875  0.905563  \n",
       "158    0.893778  0.922875  0.908094  \n",
       "905    0.880394  0.909728  0.894821  \n",
       "912    0.899013  0.922875  0.910788  \n",
       "1037   0.899390  0.924628  0.911834  \n",
       "1149   0.899166  0.926380  0.912570  "
      ]
     },
     "execution_count": 15,
     "metadata": {},
     "output_type": "execute_result"
    }
   ],
   "source": [
    "average_df = df[df.lang == \"cs-uk\"]\n",
    "average_df = average_df.drop(columns=\"lang\").groupby([\"experiment_name\", \"step\"]).mean().reset_index()\n",
    "best_steps = average_df.loc[average_df.groupby('experiment_name').aer.idxmin()]\n",
    "best_steps"
   ]
  },
  {
   "cell_type": "code",
   "execution_count": 16,
   "id": "3974766e",
   "metadata": {},
   "outputs": [
    {
     "data": {
      "text/html": [
       "<style type=\"text/css\">\n",
       "#T_4e13c_row2_col6, #T_4e13c_row3_col5, #T_4e13c_row5_col3, #T_4e13c_row6_col7, #T_4e13c_row7_col0, #T_4e13c_row7_col1, #T_4e13c_row7_col2, #T_4e13c_row7_col4 {\n",
       "  background-color: lightgreen;\n",
       "}\n",
       "</style>\n",
       "<table id=\"T_4e13c\">\n",
       "  <thead>\n",
       "    <tr>\n",
       "      <th class=\"blank\" >&nbsp;</th>\n",
       "      <th class=\"index_name level0\" >lang</th>\n",
       "      <th id=\"T_4e13c_level0_col0\" class=\"col_heading level0 col0\" >cs-uk</th>\n",
       "      <th id=\"T_4e13c_level0_col1\" class=\"col_heading level0 col1\" >de-en</th>\n",
       "      <th id=\"T_4e13c_level0_col2\" class=\"col_heading level0 col2\" >en-cs</th>\n",
       "      <th id=\"T_4e13c_level0_col3\" class=\"col_heading level0 col3\" >en-fr</th>\n",
       "      <th id=\"T_4e13c_level0_col4\" class=\"col_heading level0 col4\" >es-fr</th>\n",
       "      <th id=\"T_4e13c_level0_col5\" class=\"col_heading level0 col5\" >ja-en</th>\n",
       "      <th id=\"T_4e13c_level0_col6\" class=\"col_heading level0 col6\" >ro-en</th>\n",
       "      <th id=\"T_4e13c_level0_col7\" class=\"col_heading level0 col7\" >zh-en</th>\n",
       "    </tr>\n",
       "    <tr>\n",
       "      <th class=\"index_name level0\" >experiment_name</th>\n",
       "      <th class=\"index_name level1\" >step</th>\n",
       "      <th class=\"blank col0\" >&nbsp;</th>\n",
       "      <th class=\"blank col1\" >&nbsp;</th>\n",
       "      <th class=\"blank col2\" >&nbsp;</th>\n",
       "      <th class=\"blank col3\" >&nbsp;</th>\n",
       "      <th class=\"blank col4\" >&nbsp;</th>\n",
       "      <th class=\"blank col5\" >&nbsp;</th>\n",
       "      <th class=\"blank col6\" >&nbsp;</th>\n",
       "      <th class=\"blank col7\" >&nbsp;</th>\n",
       "    </tr>\n",
       "  </thead>\n",
       "  <tbody>\n",
       "    <tr>\n",
       "      <th id=\"T_4e13c_level0_row0\" class=\"row_heading level0 row0\" >bert-base-multilingual-cased</th>\n",
       "      <th id=\"T_4e13c_level1_row0\" class=\"row_heading level1 row0\" >0</th>\n",
       "      <td id=\"T_4e13c_row0_col0\" class=\"data row0 col0\" >12.5</td>\n",
       "      <td id=\"T_4e13c_row0_col1\" class=\"data row0 col1\" >17.4</td>\n",
       "      <td id=\"T_4e13c_row0_col2\" class=\"data row0 col2\" >9.5</td>\n",
       "      <td id=\"T_4e13c_row0_col3\" class=\"data row0 col3\" >5.6</td>\n",
       "      <td id=\"T_4e13c_row0_col4\" class=\"data row0 col4\" >14.4</td>\n",
       "      <td id=\"T_4e13c_row0_col5\" class=\"data row0 col5\" >45.6</td>\n",
       "      <td id=\"T_4e13c_row0_col6\" class=\"data row0 col6\" >27.9</td>\n",
       "      <td id=\"T_4e13c_row0_col7\" class=\"data row0 col7\" >17.9</td>\n",
       "    </tr>\n",
       "    <tr>\n",
       "      <th id=\"T_4e13c_level0_row1\" class=\"row_heading level0 row1\" >mbert_full8M_1epoch</th>\n",
       "      <th id=\"T_4e13c_level1_row1\" class=\"row_heading level1 row1\" >16000</th>\n",
       "      <td id=\"T_4e13c_row1_col0\" class=\"data row1 col0\" >9.4</td>\n",
       "      <td id=\"T_4e13c_row1_col1\" class=\"data row1 col1\" >16.1</td>\n",
       "      <td id=\"T_4e13c_row1_col2\" class=\"data row1 col2\" >7.3</td>\n",
       "      <td id=\"T_4e13c_row1_col3\" class=\"data row1 col3\" >5.1</td>\n",
       "      <td id=\"T_4e13c_row1_col4\" class=\"data row1 col4\" >15.3</td>\n",
       "      <td id=\"T_4e13c_row1_col5\" class=\"data row1 col5\" >47.8</td>\n",
       "      <td id=\"T_4e13c_row1_col6\" class=\"data row1 col6\" >28.0</td>\n",
       "      <td id=\"T_4e13c_row1_col7\" class=\"data row1 col7\" >16.3</td>\n",
       "    </tr>\n",
       "    <tr>\n",
       "      <th id=\"T_4e13c_level0_row2\" class=\"row_heading level0 row2\" >mbert_full8M_1epoch_finegrained_bs16</th>\n",
       "      <th id=\"T_4e13c_level1_row2\" class=\"row_heading level1 row2\" >5200</th>\n",
       "      <td id=\"T_4e13c_row2_col0\" class=\"data row2 col0\" >9.5</td>\n",
       "      <td id=\"T_4e13c_row2_col1\" class=\"data row2 col1\" >15.5</td>\n",
       "      <td id=\"T_4e13c_row2_col2\" class=\"data row2 col2\" >6.9</td>\n",
       "      <td id=\"T_4e13c_row2_col3\" class=\"data row2 col3\" >4.4</td>\n",
       "      <td id=\"T_4e13c_row2_col4\" class=\"data row2 col4\" >14.3</td>\n",
       "      <td id=\"T_4e13c_row2_col5\" class=\"data row2 col5\" >44.8</td>\n",
       "      <td id=\"T_4e13c_row2_col6\" class=\"data row2 col6\" >25.6</td>\n",
       "      <td id=\"T_4e13c_row2_col7\" class=\"data row2 col7\" >15.3</td>\n",
       "    </tr>\n",
       "    <tr>\n",
       "      <th id=\"T_4e13c_level0_row3\" class=\"row_heading level0 row3\" >mbert_multilingual_1M-per-lang</th>\n",
       "      <th id=\"T_4e13c_level1_row3\" class=\"row_heading level1 row3\" >4000</th>\n",
       "      <td id=\"T_4e13c_row3_col0\" class=\"data row3 col0\" >9.3</td>\n",
       "      <td id=\"T_4e13c_row3_col1\" class=\"data row3 col1\" >15.3</td>\n",
       "      <td id=\"T_4e13c_row3_col2\" class=\"data row3 col2\" >6.3</td>\n",
       "      <td id=\"T_4e13c_row3_col3\" class=\"data row3 col3\" >4.8</td>\n",
       "      <td id=\"T_4e13c_row3_col4\" class=\"data row3 col4\" >14.3</td>\n",
       "      <td id=\"T_4e13c_row3_col5\" class=\"data row3 col5\" >44.7</td>\n",
       "      <td id=\"T_4e13c_row3_col6\" class=\"data row3 col6\" >25.8</td>\n",
       "      <td id=\"T_4e13c_row3_col7\" class=\"data row3 col7\" >14.9</td>\n",
       "    </tr>\n",
       "    <tr>\n",
       "      <th id=\"T_4e13c_level0_row4\" class=\"row_heading level0 row4\" >mbert_multilingual_1M-per-lang_only_tlm</th>\n",
       "      <th id=\"T_4e13c_level1_row4\" class=\"row_heading level1 row4\" >333000</th>\n",
       "      <td id=\"T_4e13c_row4_col0\" class=\"data row4 col0\" >10.6</td>\n",
       "      <td id=\"T_4e13c_row4_col1\" class=\"data row4 col1\" >16.0</td>\n",
       "      <td id=\"T_4e13c_row4_col2\" class=\"data row4 col2\" >7.5</td>\n",
       "      <td id=\"T_4e13c_row4_col3\" class=\"data row4 col3\" >4.3</td>\n",
       "      <td id=\"T_4e13c_row4_col4\" class=\"data row4 col4\" >13.9</td>\n",
       "      <td id=\"T_4e13c_row4_col5\" class=\"data row4 col5\" >47.6</td>\n",
       "      <td id=\"T_4e13c_row4_col6\" class=\"data row4 col6\" >39.4</td>\n",
       "      <td id=\"T_4e13c_row4_col7\" class=\"data row4 col7\" >17.0</td>\n",
       "    </tr>\n",
       "    <tr>\n",
       "      <th id=\"T_4e13c_level0_row5\" class=\"row_heading level0 row5\" >mbert_multilingual_1M-per-lang_only_tlm_add_so</th>\n",
       "      <th id=\"T_4e13c_level1_row5\" class=\"row_heading level1 row5\" >1200</th>\n",
       "      <td id=\"T_4e13c_row5_col0\" class=\"data row5 col0\" >9.0</td>\n",
       "      <td id=\"T_4e13c_row5_col1\" class=\"data row5 col1\" >14.6</td>\n",
       "      <td id=\"T_4e13c_row5_col2\" class=\"data row5 col2\" >6.1</td>\n",
       "      <td id=\"T_4e13c_row5_col3\" class=\"data row5 col3\" >3.9</td>\n",
       "      <td id=\"T_4e13c_row5_col4\" class=\"data row5 col4\" >13.8</td>\n",
       "      <td id=\"T_4e13c_row5_col5\" class=\"data row5 col5\" >46.0</td>\n",
       "      <td id=\"T_4e13c_row5_col6\" class=\"data row5 col6\" >33.5</td>\n",
       "      <td id=\"T_4e13c_row5_col7\" class=\"data row5 col7\" >14.8</td>\n",
       "    </tr>\n",
       "    <tr>\n",
       "      <th id=\"T_4e13c_level0_row6\" class=\"row_heading level0 row6\" >mbert_multilingual_1M-per-lang_only_tlm_add_so_lr1e-5</th>\n",
       "      <th id=\"T_4e13c_level1_row6\" class=\"row_heading level1 row6\" >6200</th>\n",
       "      <td id=\"T_4e13c_row6_col0\" class=\"data row6 col0\" >8.9</td>\n",
       "      <td id=\"T_4e13c_row6_col1\" class=\"data row6 col1\" >14.4</td>\n",
       "      <td id=\"T_4e13c_row6_col2\" class=\"data row6 col2\" >6.0</td>\n",
       "      <td id=\"T_4e13c_row6_col3\" class=\"data row6 col3\" >3.9</td>\n",
       "      <td id=\"T_4e13c_row6_col4\" class=\"data row6 col4\" >13.8</td>\n",
       "      <td id=\"T_4e13c_row6_col5\" class=\"data row6 col5\" >45.9</td>\n",
       "      <td id=\"T_4e13c_row6_col6\" class=\"data row6 col6\" >32.4</td>\n",
       "      <td id=\"T_4e13c_row6_col7\" class=\"data row6 col7\" >14.5</td>\n",
       "    </tr>\n",
       "    <tr>\n",
       "      <th id=\"T_4e13c_level0_row7\" class=\"row_heading level0 row7\" >mbert_multilingual_1M-per-lang_only_tlm_add_so_lr5e-6</th>\n",
       "      <th id=\"T_4e13c_level1_row7\" class=\"row_heading level1 row7\" >8600</th>\n",
       "      <td id=\"T_4e13c_row7_col0\" class=\"data row7 col0\" >8.8</td>\n",
       "      <td id=\"T_4e13c_row7_col1\" class=\"data row7 col1\" >14.4</td>\n",
       "      <td id=\"T_4e13c_row7_col2\" class=\"data row7 col2\" >5.8</td>\n",
       "      <td id=\"T_4e13c_row7_col3\" class=\"data row7 col3\" >3.9</td>\n",
       "      <td id=\"T_4e13c_row7_col4\" class=\"data row7 col4\" >13.7</td>\n",
       "      <td id=\"T_4e13c_row7_col5\" class=\"data row7 col5\" >46.0</td>\n",
       "      <td id=\"T_4e13c_row7_col6\" class=\"data row7 col6\" >32.8</td>\n",
       "      <td id=\"T_4e13c_row7_col7\" class=\"data row7 col7\" >14.6</td>\n",
       "    </tr>\n",
       "  </tbody>\n",
       "</table>\n"
      ],
      "text/plain": [
       "<pandas.io.formats.style.Styler at 0x7f2f275c0a90>"
      ]
     },
     "execution_count": 16,
     "metadata": {},
     "output_type": "execute_result"
    }
   ],
   "source": [
    "allowed = list(best_steps[[\"experiment_name\", \"step\"]].apply(tuple, axis=1))\n",
    "condition = df[['experiment_name', 'step']].apply(tuple, axis=1).isin(allowed)\n",
    "p = df[condition].pivot(index=(\"experiment_name\", \"step\"), columns=\"lang\", values=\"aer\")*100\n",
    "p.style.highlight_min(color='lightgreen', axis = 0).format('{:.1f}')"
   ]
  }
 ],
 "metadata": {
  "kernelspec": {
   "display_name": "Python 3 (ipykernel)",
   "language": "python",
   "name": "python3"
  },
  "language_info": {
   "codemirror_mode": {
    "name": "ipython",
    "version": 3
   },
   "file_extension": ".py",
   "mimetype": "text/x-python",
   "name": "python",
   "nbconvert_exporter": "python",
   "pygments_lexer": "ipython3",
   "version": "3.10.12"
  }
 },
 "nbformat": 4,
 "nbformat_minor": 5
}
