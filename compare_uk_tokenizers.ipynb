{
 "cells": [
  {
   "cell_type": "code",
   "execution_count": 1,
   "id": "b2a8c8b6",
   "metadata": {},
   "outputs": [],
   "source": [
    "from mosestokenizer import MosesTokenizer\n",
    "import tokenize_uk # tokenize_words, tokenize_sents, tokenize_text\n",
    "import difflib\n",
    "from IPython.display import display, HTML\n",
    "from compare_tokenizers_utils import display_spaces, display_diff"
   ]
  },
  {
   "cell_type": "code",
   "execution_count": 38,
   "id": "d8d1e602",
   "metadata": {},
   "outputs": [
    {
     "name": "stdout",
     "output_type": "stream",
     "text": [
      "1\n"
     ]
    }
   ],
   "source": [
    "%%bash\n",
    "# download data, cell not tested:\n",
    "mkdir -p data\n",
    "cd data\n",
    "# wget https://ufallab.ms.mff.cuni.cz/~popel/uk-cs/data/train-set/full8M.uk.gz\n",
    "# gzip -d full8M.uk.gz"
   ]
  },
  {
   "cell_type": "code",
   "execution_count": 21,
   "id": "a9f4df42",
   "metadata": {},
   "outputs": [
    {
     "name": "stdout",
     "output_type": "stream",
     "text": [
      "/home/balhar/.local/lib/python3.10/site-packages/mosestokenizer/nonbreaking_prefixes/nonbreaking_prefix.uk\n",
      "uk prefixes successfully installed\n"
     ]
    },
    {
     "name": "stderr",
     "output_type": "stream",
     "text": [
      "  % Total    % Received % Xferd  Average Speed   Time    Time     Time  Current\n",
      "                                 Dload  Upload   Total   Spent    Left  Speed\n",
      "\r\n",
      "  0     0    0     0    0     0      0      0 --:--:-- --:--:-- --:--:--     0\r\n",
      "100  1792  100  1792    0     0  18326      0 --:--:-- --:--:-- --:--:-- 18474\n"
     ]
    }
   ],
   "source": [
    "# PURE EVIL = add uk prefixes to the installed moses package\n",
    "import os\n",
    "path = os.path.abspath(mosestokenizer.__file__)\n",
    "path = os.path.dirname(path)\n",
    "path = os.path.join(path, \"nonbreaking_prefixes\", \"nonbreaking_prefix.uk\")\n",
    "print(path)\n",
    "os.system(f\"curl https://raw.githubusercontent.com/ufal/lindat-translation/master/app/text_utils/non_breaking_prefixes/uk.txt > {path}\")\n",
    "if os.path.exists(path):\n",
    "    print(\"uk prefixes successfully installed\")"
   ]
  },
  {
   "cell_type": "code",
   "execution_count": 158,
   "id": "f377d98f",
   "metadata": {},
   "outputs": [],
   "source": [
    "uk_data_path = \"./data/full8M.uk.train\"\n",
    "lines_number = 10000\n",
    "# read first lines of uk data\n",
    "with open(uk_data_path) as input_file:\n",
    "    head = [next(input_file).strip() for _ in range(lines_number)]"
   ]
  },
  {
   "cell_type": "code",
   "execution_count": 160,
   "id": "b8330014",
   "metadata": {},
   "outputs": [],
   "source": [
    "result = []\n",
    "moses_uk = MosesTokenizer('uk')\n",
    "moses_en = MosesTokenizer('en')\n",
    "for line in head:\n",
    "    tok_tokenize_uk = tokenize_uk.tokenize_words(line)\n",
    "    tok_moses_uk = moses_uk(line)\n",
    "    tok_moses_en = moses_en(line)\n",
    "    result.append({\n",
    "        \"original\": line,\n",
    "        \"tokenize_uk\": \" \".join(tok_tokenize_uk),\n",
    "        \"moses_uk\": \" \".join(tok_moses_uk),\n",
    "        \"moses_en\": \" \".join(tok_moses_en),\n",
    "    })\n",
    "moses_uk.close()\n",
    "moses_en.close()"
   ]
  },
  {
   "cell_type": "code",
   "execution_count": 189,
   "id": "b4bcd8ef",
   "metadata": {},
   "outputs": [],
   "source": [
    "import pandas as pd\n",
    "pd.set_option('display.max_colwidth', None)"
   ]
  },
  {
   "cell_type": "code",
   "execution_count": 162,
   "id": "977545e3",
   "metadata": {},
   "outputs": [],
   "source": [
    "df = pd.DataFrame(result)"
   ]
  },
  {
   "cell_type": "markdown",
   "id": "effd29f8",
   "metadata": {},
   "source": [
    "# How much Moses+english and Moses+ukrainian differ?"
   ]
  },
  {
   "cell_type": "code",
   "execution_count": 165,
   "id": "69891c21",
   "metadata": {},
   "outputs": [
    {
     "data": {
      "text/plain": [
       "10000"
      ]
     },
     "execution_count": 165,
     "metadata": {},
     "output_type": "execute_result"
    }
   ],
   "source": [
    "# total number of tested lines\n",
    "len(df)"
   ]
  },
  {
   "cell_type": "code",
   "execution_count": 167,
   "id": "bc8e19be",
   "metadata": {},
   "outputs": [
    {
     "data": {
      "text/plain": [
       "674"
      ]
     },
     "execution_count": 167,
     "metadata": {},
     "output_type": "execute_result"
    }
   ],
   "source": [
    "# how often Moses with en breaking prefixes differs from Moses with uk breaking prefixes\n",
    "sum(df.moses_en != df.moses_uk)"
   ]
  },
  {
   "cell_type": "markdown",
   "id": "70b248d8",
   "metadata": {},
   "source": [
    "<h2>Legend for the detailed view</h2>\n",
    "For tokenizer_A VS tokenizer_B:<br>\n",
    "<span style='background-color: #FFFF88;'>yellow</span> = separating space between tokens present in both A and B<br>\n",
    "<span style='background-color: #88FF88;'>green</span> = space present in B, missing in A<br>\n",
    "<span style='background-color: #FF0000;'>red line</span> = space present in A, missing in B<br>\n",
    "<span style='background-color: #FF88FF;'>purple</span> = replaced substring<br>"
   ]
  },
  {
   "cell_type": "code",
   "execution_count": 186,
   "id": "5ecf8988",
   "metadata": {
    "scrolled": false
   },
   "outputs": [
    {
     "data": {
      "text/html": [
       "<style type=\"text/css\">\n",
       "</style>\n",
       "<table id=\"T_a8995\">\n",
       "  <thead>\n",
       "    <tr>\n",
       "      <th class=\"blank level0\" >&nbsp;</th>\n",
       "      <th id=\"T_a8995_level0_col0\" class=\"col_heading level0 col0\" >original</th>\n",
       "      <th id=\"T_a8995_level0_col1\" class=\"col_heading level0 col1\" >moses_uk</th>\n",
       "      <th id=\"T_a8995_level0_col2\" class=\"col_heading level0 col2\" >moses_uk versus moses_en</th>\n",
       "      <th id=\"T_a8995_level0_col3\" class=\"col_heading level0 col3\" >moses_en</th>\n",
       "    </tr>\n",
       "  </thead>\n",
       "  <tbody>\n",
       "    <tr>\n",
       "      <th id=\"T_a8995_level0_row0\" class=\"row_heading level0 row0\" >5</th>\n",
       "      <td id=\"T_a8995_row0_col0\" class=\"data row0 col0\" >За 75 секунд польоту він подолав відстань 3 км.</td>\n",
       "      <td id=\"T_a8995_row0_col1\" class=\"data row0 col1\" >За 75 секунд польоту він подолав відстань 3 км.</td>\n",
       "      <td id=\"T_a8995_row0_col2\" class=\"data row0 col2\" >За<span style='background-color: #FFFF88;'> </span>75<span style='background-color: #FFFF88;'> </span>секунд<span style='background-color: #FFFF88;'> </span>польоту<span style='background-color: #FFFF88;'> </span>він<span style='background-color: #FFFF88;'> </span>подолав<span style='background-color: #FFFF88;'> </span>відстань<span style='background-color: #FFFF88;'> </span>3<span style='background-color: #FFFF88;'> </span>км<span style='background-color: #88FF88;'> </span>.</td>\n",
       "      <td id=\"T_a8995_row0_col3\" class=\"data row0 col3\" >За 75 секунд польоту він подолав відстань 3 км .</td>\n",
       "    </tr>\n",
       "    <tr>\n",
       "      <th id=\"T_a8995_level0_row1\" class=\"row_heading level0 row1\" >18</th>\n",
       "      <td id=\"T_a8995_row1_col0\" class=\"data row1 col0\" >, Відвідайте наш Інтернет-магазин для перегляду передач, частини і аксесуари для продажу, якщо ви не можете знайти те, що ви шукаєте або потрібна допомога, зв'яжіться з нами або зателефонувати нам з понеділка по п'ятницю 8 ранку до 5 вечора EST в 877-776-4600 або 407-872-1901.</td>\n",
       "      <td id=\"T_a8995_row1_col1\" class=\"data row1 col1\" >, Відвідайте наш Інтернет @-@ магазин для перегляду передач , частини і аксесуари для продажу , якщо ви не можете знайти те , що ви шукаєте або потрібна допомога , зв &apos; яжіться з нами або зателефонувати нам з понеділка по п &apos; ятницю 8 ранку до 5 вечора EST в 877 @-@ 776 @-@ 4600 або 407 @-@ 872 @-@ 1901 .</td>\n",
       "      <td id=\"T_a8995_row1_col2\" class=\"data row1 col2\" >,<span style='background-color: #FFFF88;'> </span>Відвідайте<span style='background-color: #FFFF88;'> </span>наш<span style='background-color: #FFFF88;'> </span>Інтернет<span style='background-color: #FFFF88;'> </span>@-@<span style='background-color: #FFFF88;'> </span>магазин<span style='background-color: #FFFF88;'> </span>для<span style='background-color: #FFFF88;'> </span>перегляду<span style='background-color: #FFFF88;'> </span>передач<span style='background-color: #FFFF88;'> </span>,<span style='background-color: #FFFF88;'> </span>частини<span style='background-color: #FFFF88;'> </span>і<span style='background-color: #FFFF88;'> </span>аксесуари<span style='background-color: #FFFF88;'> </span>для<span style='background-color: #FFFF88;'> </span>продажу<span style='background-color: #FFFF88;'> </span>,<span style='background-color: #FFFF88;'> </span>якщо<span style='background-color: #FFFF88;'> </span>ви<span style='background-color: #FFFF88;'> </span>не<span style='background-color: #FFFF88;'> </span>можете<span style='background-color: #FFFF88;'> </span>знайти<span style='background-color: #FFFF88;'> </span>те<span style='background-color: #FFFF88;'> </span>,<span style='background-color: #FFFF88;'> </span>що<span style='background-color: #FFFF88;'> </span>ви<span style='background-color: #FFFF88;'> </span>шукаєте<span style='background-color: #FFFF88;'> </span>або<span style='background-color: #FFFF88;'> </span>потрібна<span style='background-color: #FFFF88;'> </span>допомога<span style='background-color: #FFFF88;'> </span>,<span style='background-color: #FFFF88;'> </span>зв<span style='background-color: #FFFF88;'> </span>&apos;<div style='display:inline-block;background-color: #FF0000;width:2px;margin-right:-2px;height:1.5em;'></div>яжіться<span style='background-color: #FFFF88;'> </span>з<span style='background-color: #FFFF88;'> </span>нами<span style='background-color: #FFFF88;'> </span>або<span style='background-color: #FFFF88;'> </span>зателефонувати<span style='background-color: #FFFF88;'> </span>нам<span style='background-color: #FFFF88;'> </span>з<span style='background-color: #FFFF88;'> </span>понеділка<span style='background-color: #FFFF88;'> </span>по<span style='background-color: #FFFF88;'> </span>п<span style='background-color: #FFFF88;'> </span>&apos;<div style='display:inline-block;background-color: #FF0000;width:2px;margin-right:-2px;height:1.5em;'></div>ятницю<span style='background-color: #FFFF88;'> </span>8<span style='background-color: #FFFF88;'> </span>ранку<span style='background-color: #FFFF88;'> </span>до<span style='background-color: #FFFF88;'> </span>5<span style='background-color: #FFFF88;'> </span>вечора<span style='background-color: #FFFF88;'> </span>EST<span style='background-color: #FFFF88;'> </span>в<span style='background-color: #FFFF88;'> </span>877<span style='background-color: #FFFF88;'> </span>@-@<span style='background-color: #FFFF88;'> </span>776<span style='background-color: #FFFF88;'> </span>@-@<span style='background-color: #FFFF88;'> </span>4600<span style='background-color: #FFFF88;'> </span>або<span style='background-color: #FFFF88;'> </span>407<span style='background-color: #FFFF88;'> </span>@-@<span style='background-color: #FFFF88;'> </span>872<span style='background-color: #FFFF88;'> </span>@-@<span style='background-color: #FFFF88;'> </span>1901<span style='background-color: #FFFF88;'> </span>.</td>\n",
       "      <td id=\"T_a8995_row1_col3\" class=\"data row1 col3\" >, Відвідайте наш Інтернет @-@ магазин для перегляду передач , частини і аксесуари для продажу , якщо ви не можете знайти те , що ви шукаєте або потрібна допомога , зв &apos;яжіться з нами або зателефонувати нам з понеділка по п &apos;ятницю 8 ранку до 5 вечора EST в 877 @-@ 776 @-@ 4600 або 407 @-@ 872 @-@ 1901 .</td>\n",
       "    </tr>\n",
       "    <tr>\n",
       "      <th id=\"T_a8995_level0_row2\" class=\"row_heading level0 row2\" >32</th>\n",
       "      <td id=\"T_a8995_row2_col0\" class=\"data row2 col0\" >Щоб підключити варильну поверхню до мережі 380 Вольт, знадобиться мідний кабель, п'ять жив - ПВС 5х4мм - тільки з його допомогою можна зробити безпечне і надійне підключення.</td>\n",
       "      <td id=\"T_a8995_row2_col1\" class=\"data row2 col1\" >Щоб підключити варильну поверхню до мережі 380 Вольт , знадобиться мідний кабель , п &apos; ять жив - ПВС 5х4мм - тільки з його допомогою можна зробити безпечне і надійне підключення .</td>\n",
       "      <td id=\"T_a8995_row2_col2\" class=\"data row2 col2\" >Щоб<span style='background-color: #FFFF88;'> </span>підключити<span style='background-color: #FFFF88;'> </span>варильну<span style='background-color: #FFFF88;'> </span>поверхню<span style='background-color: #FFFF88;'> </span>до<span style='background-color: #FFFF88;'> </span>мережі<span style='background-color: #FFFF88;'> </span>380<span style='background-color: #FFFF88;'> </span>Вольт<span style='background-color: #FFFF88;'> </span>,<span style='background-color: #FFFF88;'> </span>знадобиться<span style='background-color: #FFFF88;'> </span>мідний<span style='background-color: #FFFF88;'> </span>кабель<span style='background-color: #FFFF88;'> </span>,<span style='background-color: #FFFF88;'> </span>п<span style='background-color: #FFFF88;'> </span>&apos;<div style='display:inline-block;background-color: #FF0000;width:2px;margin-right:-2px;height:1.5em;'></div>ять<span style='background-color: #FFFF88;'> </span>жив<span style='background-color: #FFFF88;'> </span>-<span style='background-color: #FFFF88;'> </span>ПВС<span style='background-color: #FFFF88;'> </span>5х4мм<span style='background-color: #FFFF88;'> </span>-<span style='background-color: #FFFF88;'> </span>тільки<span style='background-color: #FFFF88;'> </span>з<span style='background-color: #FFFF88;'> </span>його<span style='background-color: #FFFF88;'> </span>допомогою<span style='background-color: #FFFF88;'> </span>можна<span style='background-color: #FFFF88;'> </span>зробити<span style='background-color: #FFFF88;'> </span>безпечне<span style='background-color: #FFFF88;'> </span>і<span style='background-color: #FFFF88;'> </span>надійне<span style='background-color: #FFFF88;'> </span>підключення<span style='background-color: #FFFF88;'> </span>.</td>\n",
       "      <td id=\"T_a8995_row2_col3\" class=\"data row2 col3\" >Щоб підключити варильну поверхню до мережі 380 Вольт , знадобиться мідний кабель , п &apos;ять жив - ПВС 5х4мм - тільки з його допомогою можна зробити безпечне і надійне підключення .</td>\n",
       "    </tr>\n",
       "    <tr>\n",
       "      <th id=\"T_a8995_level0_row3\" class=\"row_heading level0 row3\" >46</th>\n",
       "      <td id=\"T_a8995_row3_col0\" class=\"data row3 col0\" >Маленька Орися - дуже рухлива дитина, тому батькам треба берегти її від можливих травм.Ставши дорослою, вона часто легковажно ставиться до свого здоров'я, часто зловживає знеболюючими препаратами і енергетиками, чого робити ні в якому разі не можна.</td>\n",
       "      <td id=\"T_a8995_row3_col1\" class=\"data row3 col1\" >Маленька Орися - дуже рухлива дитина , тому батькам треба берегти її від можливих травм.Ставши дорослою , вона часто легковажно ставиться до свого здоров &apos; я , часто зловживає знеболюючими препаратами і енергетиками , чого робити ні в якому разі не можна .</td>\n",
       "      <td id=\"T_a8995_row3_col2\" class=\"data row3 col2\" >Маленька<span style='background-color: #FFFF88;'> </span>Орися<span style='background-color: #FFFF88;'> </span>-<span style='background-color: #FFFF88;'> </span>дуже<span style='background-color: #FFFF88;'> </span>рухлива<span style='background-color: #FFFF88;'> </span>дитина<span style='background-color: #FFFF88;'> </span>,<span style='background-color: #FFFF88;'> </span>тому<span style='background-color: #FFFF88;'> </span>батькам<span style='background-color: #FFFF88;'> </span>треба<span style='background-color: #FFFF88;'> </span>берегти<span style='background-color: #FFFF88;'> </span>її<span style='background-color: #FFFF88;'> </span>від<span style='background-color: #FFFF88;'> </span>можливих<span style='background-color: #FFFF88;'> </span>травм.Ставши<span style='background-color: #FFFF88;'> </span>дорослою<span style='background-color: #FFFF88;'> </span>,<span style='background-color: #FFFF88;'> </span>вона<span style='background-color: #FFFF88;'> </span>часто<span style='background-color: #FFFF88;'> </span>легковажно<span style='background-color: #FFFF88;'> </span>ставиться<span style='background-color: #FFFF88;'> </span>до<span style='background-color: #FFFF88;'> </span>свого<span style='background-color: #FFFF88;'> </span>здоров<span style='background-color: #FFFF88;'> </span>&apos;<div style='display:inline-block;background-color: #FF0000;width:2px;margin-right:-2px;height:1.5em;'></div>я<span style='background-color: #FFFF88;'> </span>,<span style='background-color: #FFFF88;'> </span>часто<span style='background-color: #FFFF88;'> </span>зловживає<span style='background-color: #FFFF88;'> </span>знеболюючими<span style='background-color: #FFFF88;'> </span>препаратами<span style='background-color: #FFFF88;'> </span>і<span style='background-color: #FFFF88;'> </span>енергетиками<span style='background-color: #FFFF88;'> </span>,<span style='background-color: #FFFF88;'> </span>чого<span style='background-color: #FFFF88;'> </span>робити<span style='background-color: #FFFF88;'> </span>ні<span style='background-color: #FFFF88;'> </span>в<span style='background-color: #FFFF88;'> </span>якому<span style='background-color: #FFFF88;'> </span>разі<span style='background-color: #FFFF88;'> </span>не<span style='background-color: #FFFF88;'> </span>можна<span style='background-color: #FFFF88;'> </span>.</td>\n",
       "      <td id=\"T_a8995_row3_col3\" class=\"data row3 col3\" >Маленька Орися - дуже рухлива дитина , тому батькам треба берегти її від можливих травм.Ставши дорослою , вона часто легковажно ставиться до свого здоров &apos;я , часто зловживає знеболюючими препаратами і енергетиками , чого робити ні в якому разі не можна .</td>\n",
       "    </tr>\n",
       "    <tr>\n",
       "      <th id=\"T_a8995_level0_row4\" class=\"row_heading level0 row4\" >52</th>\n",
       "      <td id=\"T_a8995_row4_col0\" class=\"data row4 col0\" >Її справжнє ім'я – Адель Лорі Блу Едкінс.</td>\n",
       "      <td id=\"T_a8995_row4_col1\" class=\"data row4 col1\" >Її справжнє ім &apos; я – Адель Лорі Блу Едкінс .</td>\n",
       "      <td id=\"T_a8995_row4_col2\" class=\"data row4 col2\" >Її<span style='background-color: #FFFF88;'> </span>справжнє<span style='background-color: #FFFF88;'> </span>ім<span style='background-color: #FFFF88;'> </span>&apos;<div style='display:inline-block;background-color: #FF0000;width:2px;margin-right:-2px;height:1.5em;'></div>я<span style='background-color: #FFFF88;'> </span>–<span style='background-color: #FFFF88;'> </span>Адель<span style='background-color: #FFFF88;'> </span>Лорі<span style='background-color: #FFFF88;'> </span>Блу<span style='background-color: #FFFF88;'> </span>Едкінс<span style='background-color: #FFFF88;'> </span>.</td>\n",
       "      <td id=\"T_a8995_row4_col3\" class=\"data row4 col3\" >Її справжнє ім &apos;я – Адель Лорі Блу Едкінс .</td>\n",
       "    </tr>\n",
       "    <tr>\n",
       "      <th id=\"T_a8995_level0_row5\" class=\"row_heading level0 row5\" >55</th>\n",
       "      <td id=\"T_a8995_row5_col0\" class=\"data row5 col0\" >Теорію гомеопатії розробив німецький лікар Самуель Ганеман наприкінці XVIII ст., коли сучасна медицина його розчарувала.</td>\n",
       "      <td id=\"T_a8995_row5_col1\" class=\"data row5 col1\" >Теорію гомеопатії розробив німецький лікар Самуель Ганеман наприкінці XVIII ст. , коли сучасна медицина його розчарувала .</td>\n",
       "      <td id=\"T_a8995_row5_col2\" class=\"data row5 col2\" >Теорію<span style='background-color: #FFFF88;'> </span>гомеопатії<span style='background-color: #FFFF88;'> </span>розробив<span style='background-color: #FFFF88;'> </span>німецький<span style='background-color: #FFFF88;'> </span>лікар<span style='background-color: #FFFF88;'> </span>Самуель<span style='background-color: #FFFF88;'> </span>Ганеман<span style='background-color: #FFFF88;'> </span>наприкінці<span style='background-color: #FFFF88;'> </span>XVIII<span style='background-color: #FFFF88;'> </span>ст<span style='background-color: #88FF88;'> </span>.<span style='background-color: #FFFF88;'> </span>,<span style='background-color: #FFFF88;'> </span>коли<span style='background-color: #FFFF88;'> </span>сучасна<span style='background-color: #FFFF88;'> </span>медицина<span style='background-color: #FFFF88;'> </span>його<span style='background-color: #FFFF88;'> </span>розчарувала<span style='background-color: #FFFF88;'> </span>.</td>\n",
       "      <td id=\"T_a8995_row5_col3\" class=\"data row5 col3\" >Теорію гомеопатії розробив німецький лікар Самуель Ганеман наприкінці XVIII ст . , коли сучасна медицина його розчарувала .</td>\n",
       "    </tr>\n",
       "    <tr>\n",
       "      <th id=\"T_a8995_level0_row6\" class=\"row_heading level0 row6\" >56</th>\n",
       "      <td id=\"T_a8995_row6_col0\" class=\"data row6 col0\" >Для утеплення підлоги, спочатку необхідно змонтувати дерев'яні лаги, між якими потрібно прокласти утеплювач - пінопласт або мінеральну вату.</td>\n",
       "      <td id=\"T_a8995_row6_col1\" class=\"data row6 col1\" >Для утеплення підлоги , спочатку необхідно змонтувати дерев &apos; яні лаги , між якими потрібно прокласти утеплювач - пінопласт або мінеральну вату .</td>\n",
       "      <td id=\"T_a8995_row6_col2\" class=\"data row6 col2\" >Для<span style='background-color: #FFFF88;'> </span>утеплення<span style='background-color: #FFFF88;'> </span>підлоги<span style='background-color: #FFFF88;'> </span>,<span style='background-color: #FFFF88;'> </span>спочатку<span style='background-color: #FFFF88;'> </span>необхідно<span style='background-color: #FFFF88;'> </span>змонтувати<span style='background-color: #FFFF88;'> </span>дерев<span style='background-color: #FFFF88;'> </span>&apos;<div style='display:inline-block;background-color: #FF0000;width:2px;margin-right:-2px;height:1.5em;'></div>яні<span style='background-color: #FFFF88;'> </span>лаги<span style='background-color: #FFFF88;'> </span>,<span style='background-color: #FFFF88;'> </span>між<span style='background-color: #FFFF88;'> </span>якими<span style='background-color: #FFFF88;'> </span>потрібно<span style='background-color: #FFFF88;'> </span>прокласти<span style='background-color: #FFFF88;'> </span>утеплювач<span style='background-color: #FFFF88;'> </span>-<span style='background-color: #FFFF88;'> </span>пінопласт<span style='background-color: #FFFF88;'> </span>або<span style='background-color: #FFFF88;'> </span>мінеральну<span style='background-color: #FFFF88;'> </span>вату<span style='background-color: #FFFF88;'> </span>.</td>\n",
       "      <td id=\"T_a8995_row6_col3\" class=\"data row6 col3\" >Для утеплення підлоги , спочатку необхідно змонтувати дерев &apos;яні лаги , між якими потрібно прокласти утеплювач - пінопласт або мінеральну вату .</td>\n",
       "    </tr>\n",
       "    <tr>\n",
       "      <th id=\"T_a8995_level0_row7\" class=\"row_heading level0 row7\" >59</th>\n",
       "      <td id=\"T_a8995_row7_col0\" class=\"data row7 col0\" >Стимулювання довгострокового успіху через полум'яної пошуках істини, мети і самопізнання.</td>\n",
       "      <td id=\"T_a8995_row7_col1\" class=\"data row7 col1\" >Стимулювання довгострокового успіху через полум &apos; яної пошуках істини , мети і самопізнання .</td>\n",
       "      <td id=\"T_a8995_row7_col2\" class=\"data row7 col2\" >Стимулювання<span style='background-color: #FFFF88;'> </span>довгострокового<span style='background-color: #FFFF88;'> </span>успіху<span style='background-color: #FFFF88;'> </span>через<span style='background-color: #FFFF88;'> </span>полум<span style='background-color: #FFFF88;'> </span>&apos;<div style='display:inline-block;background-color: #FF0000;width:2px;margin-right:-2px;height:1.5em;'></div>яної<span style='background-color: #FFFF88;'> </span>пошуках<span style='background-color: #FFFF88;'> </span>істини<span style='background-color: #FFFF88;'> </span>,<span style='background-color: #FFFF88;'> </span>мети<span style='background-color: #FFFF88;'> </span>і<span style='background-color: #FFFF88;'> </span>самопізнання<span style='background-color: #FFFF88;'> </span>.</td>\n",
       "      <td id=\"T_a8995_row7_col3\" class=\"data row7 col3\" >Стимулювання довгострокового успіху через полум &apos;яної пошуках істини , мети і самопізнання .</td>\n",
       "    </tr>\n",
       "    <tr>\n",
       "      <th id=\"T_a8995_level0_row8\" class=\"row_heading level0 row8\" >64</th>\n",
       "      <td id=\"T_a8995_row8_col0\" class=\"data row8 col0\" >Деякі основні здоров'я переваги глоду листя Extract</td>\n",
       "      <td id=\"T_a8995_row8_col1\" class=\"data row8 col1\" >Деякі основні здоров &apos; я переваги глоду листя Extract</td>\n",
       "      <td id=\"T_a8995_row8_col2\" class=\"data row8 col2\" >Деякі<span style='background-color: #FFFF88;'> </span>основні<span style='background-color: #FFFF88;'> </span>здоров<span style='background-color: #FFFF88;'> </span>&apos;<div style='display:inline-block;background-color: #FF0000;width:2px;margin-right:-2px;height:1.5em;'></div>я<span style='background-color: #FFFF88;'> </span>переваги<span style='background-color: #FFFF88;'> </span>глоду<span style='background-color: #FFFF88;'> </span>листя<span style='background-color: #FFFF88;'> </span>Extract</td>\n",
       "      <td id=\"T_a8995_row8_col3\" class=\"data row8 col3\" >Деякі основні здоров &apos;я переваги глоду листя Extract</td>\n",
       "    </tr>\n",
       "    <tr>\n",
       "      <th id=\"T_a8995_level0_row9\" class=\"row_heading level0 row9\" >93</th>\n",
       "      <td id=\"T_a8995_row9_col0\" class=\"data row9 col0\" >Тепловий удар або теплове виснаження викликані надмірною поту, що викликає втрату солі та інших рідин організму. Ця умова звичайно передує тепловому удару і супроводжується декількома станами, такими як спазми м'язів в ногах, животі і руках. Читати Далі</td>\n",
       "      <td id=\"T_a8995_row9_col1\" class=\"data row9 col1\" >Тепловий удар або теплове виснаження викликані надмірною поту , що викликає втрату солі та інших рідин організму . Ця умова звичайно передує тепловому удару і супроводжується декількома станами , такими як спазми м &apos; язів в ногах , животі і руках . Читати Далі</td>\n",
       "      <td id=\"T_a8995_row9_col2\" class=\"data row9 col2\" >Тепловий<span style='background-color: #FFFF88;'> </span>удар<span style='background-color: #FFFF88;'> </span>або<span style='background-color: #FFFF88;'> </span>теплове<span style='background-color: #FFFF88;'> </span>виснаження<span style='background-color: #FFFF88;'> </span>викликані<span style='background-color: #FFFF88;'> </span>надмірною<span style='background-color: #FFFF88;'> </span>поту<span style='background-color: #FFFF88;'> </span>,<span style='background-color: #FFFF88;'> </span>що<span style='background-color: #FFFF88;'> </span>викликає<span style='background-color: #FFFF88;'> </span>втрату<span style='background-color: #FFFF88;'> </span>солі<span style='background-color: #FFFF88;'> </span>та<span style='background-color: #FFFF88;'> </span>інших<span style='background-color: #FFFF88;'> </span>рідин<span style='background-color: #FFFF88;'> </span>організму<span style='background-color: #FFFF88;'> </span>.<span style='background-color: #FFFF88;'> </span>Ця<span style='background-color: #FFFF88;'> </span>умова<span style='background-color: #FFFF88;'> </span>звичайно<span style='background-color: #FFFF88;'> </span>передує<span style='background-color: #FFFF88;'> </span>тепловому<span style='background-color: #FFFF88;'> </span>удару<span style='background-color: #FFFF88;'> </span>і<span style='background-color: #FFFF88;'> </span>супроводжується<span style='background-color: #FFFF88;'> </span>декількома<span style='background-color: #FFFF88;'> </span>станами<span style='background-color: #FFFF88;'> </span>,<span style='background-color: #FFFF88;'> </span>такими<span style='background-color: #FFFF88;'> </span>як<span style='background-color: #FFFF88;'> </span>спазми<span style='background-color: #FFFF88;'> </span>м<span style='background-color: #FFFF88;'> </span>&apos;<div style='display:inline-block;background-color: #FF0000;width:2px;margin-right:-2px;height:1.5em;'></div>язів<span style='background-color: #FFFF88;'> </span>в<span style='background-color: #FFFF88;'> </span>ногах<span style='background-color: #FFFF88;'> </span>,<span style='background-color: #FFFF88;'> </span>животі<span style='background-color: #FFFF88;'> </span>і<span style='background-color: #FFFF88;'> </span>руках<span style='background-color: #FFFF88;'> </span>.<span style='background-color: #FFFF88;'> </span>Читати<span style='background-color: #FFFF88;'> </span>Далі</td>\n",
       "      <td id=\"T_a8995_row9_col3\" class=\"data row9 col3\" >Тепловий удар або теплове виснаження викликані надмірною поту , що викликає втрату солі та інших рідин організму . Ця умова звичайно передує тепловому удару і супроводжується декількома станами , такими як спазми м &apos;язів в ногах , животі і руках . Читати Далі</td>\n",
       "    </tr>\n",
       "    <tr>\n",
       "      <th id=\"T_a8995_level0_row10\" class=\"row_heading level0 row10\" >119</th>\n",
       "      <td id=\"T_a8995_row10_col0\" class=\"data row10 col0\" >Згода на зберігання персональних даних, яку суб'єкт даних дав для доставки інформаційного бюлетеня, може бути відкликана в будь-який час.</td>\n",
       "      <td id=\"T_a8995_row10_col1\" class=\"data row10 col1\" >Згода на зберігання персональних даних , яку суб &apos; єкт даних дав для доставки інформаційного бюлетеня , може бути відкликана в будь @-@ який час .</td>\n",
       "      <td id=\"T_a8995_row10_col2\" class=\"data row10 col2\" >Згода<span style='background-color: #FFFF88;'> </span>на<span style='background-color: #FFFF88;'> </span>зберігання<span style='background-color: #FFFF88;'> </span>персональних<span style='background-color: #FFFF88;'> </span>даних<span style='background-color: #FFFF88;'> </span>,<span style='background-color: #FFFF88;'> </span>яку<span style='background-color: #FFFF88;'> </span>суб<span style='background-color: #FFFF88;'> </span>&apos;<div style='display:inline-block;background-color: #FF0000;width:2px;margin-right:-2px;height:1.5em;'></div>єкт<span style='background-color: #FFFF88;'> </span>даних<span style='background-color: #FFFF88;'> </span>дав<span style='background-color: #FFFF88;'> </span>для<span style='background-color: #FFFF88;'> </span>доставки<span style='background-color: #FFFF88;'> </span>інформаційного<span style='background-color: #FFFF88;'> </span>бюлетеня<span style='background-color: #FFFF88;'> </span>,<span style='background-color: #FFFF88;'> </span>може<span style='background-color: #FFFF88;'> </span>бути<span style='background-color: #FFFF88;'> </span>відкликана<span style='background-color: #FFFF88;'> </span>в<span style='background-color: #FFFF88;'> </span>будь<span style='background-color: #FFFF88;'> </span>@-@<span style='background-color: #FFFF88;'> </span>який<span style='background-color: #FFFF88;'> </span>час<span style='background-color: #FFFF88;'> </span>.</td>\n",
       "      <td id=\"T_a8995_row10_col3\" class=\"data row10 col3\" >Згода на зберігання персональних даних , яку суб &apos;єкт даних дав для доставки інформаційного бюлетеня , може бути відкликана в будь @-@ який час .</td>\n",
       "    </tr>\n",
       "    <tr>\n",
       "      <th id=\"T_a8995_level0_row11\" class=\"row_heading level0 row11\" >126</th>\n",
       "      <td id=\"T_a8995_row11_col0\" class=\"data row11 col0\" >«На даний момент Європа стоїть перед найбільшою загрозою терору за останні більш ніж десять років\", - заявив керівник європейського поліцейського агентства Рон Вейнрайт в інтерв'ю газеті Neue Osnabrücker Zeitung – повідомило радіо Deutsche Welle.</td>\n",
       "      <td id=\"T_a8995_row11_col1\" class=\"data row11 col1\" >« На даний момент Європа стоїть перед найбільшою загрозою терору за останні більш ніж десять років &quot; , - заявив керівник європейського поліцейського агентства Рон Вейнрайт в інтерв &apos; ю газеті Neue Osnabrücker Zeitung – повідомило радіо Deutsche Welle .</td>\n",
       "      <td id=\"T_a8995_row11_col2\" class=\"data row11 col2\" >«<span style='background-color: #FFFF88;'> </span>На<span style='background-color: #FFFF88;'> </span>даний<span style='background-color: #FFFF88;'> </span>момент<span style='background-color: #FFFF88;'> </span>Європа<span style='background-color: #FFFF88;'> </span>стоїть<span style='background-color: #FFFF88;'> </span>перед<span style='background-color: #FFFF88;'> </span>найбільшою<span style='background-color: #FFFF88;'> </span>загрозою<span style='background-color: #FFFF88;'> </span>терору<span style='background-color: #FFFF88;'> </span>за<span style='background-color: #FFFF88;'> </span>останні<span style='background-color: #FFFF88;'> </span>більш<span style='background-color: #FFFF88;'> </span>ніж<span style='background-color: #FFFF88;'> </span>десять<span style='background-color: #FFFF88;'> </span>років<span style='background-color: #FFFF88;'> </span>&quot;<span style='background-color: #FFFF88;'> </span>,<span style='background-color: #FFFF88;'> </span>-<span style='background-color: #FFFF88;'> </span>заявив<span style='background-color: #FFFF88;'> </span>керівник<span style='background-color: #FFFF88;'> </span>європейського<span style='background-color: #FFFF88;'> </span>поліцейського<span style='background-color: #FFFF88;'> </span>агентства<span style='background-color: #FFFF88;'> </span>Рон<span style='background-color: #FFFF88;'> </span>Вейнрайт<span style='background-color: #FFFF88;'> </span>в<span style='background-color: #FFFF88;'> </span>інтерв<span style='background-color: #FFFF88;'> </span>&apos;<div style='display:inline-block;background-color: #FF0000;width:2px;margin-right:-2px;height:1.5em;'></div>ю<span style='background-color: #FFFF88;'> </span>газеті<span style='background-color: #FFFF88;'> </span>Neue<span style='background-color: #FFFF88;'> </span>Osnabrücker<span style='background-color: #FFFF88;'> </span>Zeitung<span style='background-color: #FFFF88;'> </span>–<span style='background-color: #FFFF88;'> </span>повідомило<span style='background-color: #FFFF88;'> </span>радіо<span style='background-color: #FFFF88;'> </span>Deutsche<span style='background-color: #FFFF88;'> </span>Welle<span style='background-color: #FFFF88;'> </span>.</td>\n",
       "      <td id=\"T_a8995_row11_col3\" class=\"data row11 col3\" >« На даний момент Європа стоїть перед найбільшою загрозою терору за останні більш ніж десять років &quot; , - заявив керівник європейського поліцейського агентства Рон Вейнрайт в інтерв &apos;ю газеті Neue Osnabrücker Zeitung – повідомило радіо Deutsche Welle .</td>\n",
       "    </tr>\n",
       "    <tr>\n",
       "      <th id=\"T_a8995_level0_row12\" class=\"row_heading level0 row12\" >127</th>\n",
       "      <td id=\"T_a8995_row12_col0\" class=\"data row12 col0\" >2012 р. - Орден святої рівноапостольної Марії Магдалини I ступеня) (Польська Православна Церква)</td>\n",
       "      <td id=\"T_a8995_row12_col1\" class=\"data row12 col1\" >2012 р. - Орден святої рівноапостольної Марії Магдалини I ступеня ) ( Польська Православна Церква )</td>\n",
       "      <td id=\"T_a8995_row12_col2\" class=\"data row12 col2\" >2012<span style='background-color: #FFFF88;'> </span>р<span style='background-color: #88FF88;'> </span>.<span style='background-color: #FFFF88;'> </span>-<span style='background-color: #FFFF88;'> </span>Орден<span style='background-color: #FFFF88;'> </span>святої<span style='background-color: #FFFF88;'> </span>рівноапостольної<span style='background-color: #FFFF88;'> </span>Марії<span style='background-color: #FFFF88;'> </span>Магдалини<span style='background-color: #FFFF88;'> </span>I<span style='background-color: #FFFF88;'> </span>ступеня<span style='background-color: #FFFF88;'> </span>)<span style='background-color: #FFFF88;'> </span>(<span style='background-color: #FFFF88;'> </span>Польська<span style='background-color: #FFFF88;'> </span>Православна<span style='background-color: #FFFF88;'> </span>Церква<span style='background-color: #FFFF88;'> </span>)</td>\n",
       "      <td id=\"T_a8995_row12_col3\" class=\"data row12 col3\" >2012 р . - Орден святої рівноапостольної Марії Магдалини I ступеня ) ( Польська Православна Церква )</td>\n",
       "    </tr>\n",
       "    <tr>\n",
       "      <th id=\"T_a8995_level0_row13\" class=\"row_heading level0 row13\" >137</th>\n",
       "      <td id=\"T_a8995_row13_col0\" class=\"data row13 col0\" >Також ви можете зв'язатися з нами через форму зворотного зв'язку або E-mail sale@wood-sale.pl наші менеджери дадуть відповідь на всі Ваші запитання в найкоротші терміни.</td>\n",
       "      <td id=\"T_a8995_row13_col1\" class=\"data row13 col1\" >Також ви можете зв &apos; язатися з нами через форму зворотного зв &apos; язку або E @-@ mail sale @ wood @-@ sale.pl наші менеджери дадуть відповідь на всі Ваші запитання в найкоротші терміни .</td>\n",
       "      <td id=\"T_a8995_row13_col2\" class=\"data row13 col2\" >Також<span style='background-color: #FFFF88;'> </span>ви<span style='background-color: #FFFF88;'> </span>можете<span style='background-color: #FFFF88;'> </span>зв<span style='background-color: #FFFF88;'> </span>&apos;<div style='display:inline-block;background-color: #FF0000;width:2px;margin-right:-2px;height:1.5em;'></div>язатися<span style='background-color: #FFFF88;'> </span>з<span style='background-color: #FFFF88;'> </span>нами<span style='background-color: #FFFF88;'> </span>через<span style='background-color: #FFFF88;'> </span>форму<span style='background-color: #FFFF88;'> </span>зворотного<span style='background-color: #FFFF88;'> </span>зв<span style='background-color: #FFFF88;'> </span>&apos;<div style='display:inline-block;background-color: #FF0000;width:2px;margin-right:-2px;height:1.5em;'></div>язку<span style='background-color: #FFFF88;'> </span>або<span style='background-color: #FFFF88;'> </span>E<span style='background-color: #FFFF88;'> </span>@-@<span style='background-color: #FFFF88;'> </span>mail<span style='background-color: #FFFF88;'> </span>sale<span style='background-color: #FFFF88;'> </span>@<span style='background-color: #FFFF88;'> </span>wood<span style='background-color: #FFFF88;'> </span>@-@<span style='background-color: #FFFF88;'> </span>sale.pl<span style='background-color: #FFFF88;'> </span>наші<span style='background-color: #FFFF88;'> </span>менеджери<span style='background-color: #FFFF88;'> </span>дадуть<span style='background-color: #FFFF88;'> </span>відповідь<span style='background-color: #FFFF88;'> </span>на<span style='background-color: #FFFF88;'> </span>всі<span style='background-color: #FFFF88;'> </span>Ваші<span style='background-color: #FFFF88;'> </span>запитання<span style='background-color: #FFFF88;'> </span>в<span style='background-color: #FFFF88;'> </span>найкоротші<span style='background-color: #FFFF88;'> </span>терміни<span style='background-color: #FFFF88;'> </span>.</td>\n",
       "      <td id=\"T_a8995_row13_col3\" class=\"data row13 col3\" >Також ви можете зв &apos;язатися з нами через форму зворотного зв &apos;язку або E @-@ mail sale @ wood @-@ sale.pl наші менеджери дадуть відповідь на всі Ваші запитання в найкоротші терміни .</td>\n",
       "    </tr>\n",
       "    <tr>\n",
       "      <th id=\"T_a8995_level0_row14\" class=\"row_heading level0 row14\" >143</th>\n",
       "      <td id=\"T_a8995_row14_col0\" class=\"data row14 col0\" >Інтернет магістр права (LL.M) в області міжнародного комерційного права є основною кваліфікацією управління для юристів і менеджерів, які бажають зміцнити свої правові знання; Дослідження показують, що LL.M є каталізатором для людей з сильними кар'єрних устремлінь. [+]</td>\n",
       "      <td id=\"T_a8995_row14_col1\" class=\"data row14 col1\" >Інтернет магістр права ( LL.M ) в області міжнародного комерційного права є основною кваліфікацією управління для юристів і менеджерів , які бажають зміцнити свої правові знання ; Дослідження показують , що LL.M є каталізатором для людей з сильними кар &apos; єрних устремлінь . &#91; + &#93;</td>\n",
       "      <td id=\"T_a8995_row14_col2\" class=\"data row14 col2\" >Інтернет<span style='background-color: #FFFF88;'> </span>магістр<span style='background-color: #FFFF88;'> </span>права<span style='background-color: #FFFF88;'> </span>(<span style='background-color: #FFFF88;'> </span>LL.M<span style='background-color: #FFFF88;'> </span>)<span style='background-color: #FFFF88;'> </span>в<span style='background-color: #FFFF88;'> </span>області<span style='background-color: #FFFF88;'> </span>міжнародного<span style='background-color: #FFFF88;'> </span>комерційного<span style='background-color: #FFFF88;'> </span>права<span style='background-color: #FFFF88;'> </span>є<span style='background-color: #FFFF88;'> </span>основною<span style='background-color: #FFFF88;'> </span>кваліфікацією<span style='background-color: #FFFF88;'> </span>управління<span style='background-color: #FFFF88;'> </span>для<span style='background-color: #FFFF88;'> </span>юристів<span style='background-color: #FFFF88;'> </span>і<span style='background-color: #FFFF88;'> </span>менеджерів<span style='background-color: #FFFF88;'> </span>,<span style='background-color: #FFFF88;'> </span>які<span style='background-color: #FFFF88;'> </span>бажають<span style='background-color: #FFFF88;'> </span>зміцнити<span style='background-color: #FFFF88;'> </span>свої<span style='background-color: #FFFF88;'> </span>правові<span style='background-color: #FFFF88;'> </span>знання<span style='background-color: #FFFF88;'> </span>;<span style='background-color: #FFFF88;'> </span>Дослідження<span style='background-color: #FFFF88;'> </span>показують<span style='background-color: #FFFF88;'> </span>,<span style='background-color: #FFFF88;'> </span>що<span style='background-color: #FFFF88;'> </span>LL.M<span style='background-color: #FFFF88;'> </span>є<span style='background-color: #FFFF88;'> </span>каталізатором<span style='background-color: #FFFF88;'> </span>для<span style='background-color: #FFFF88;'> </span>людей<span style='background-color: #FFFF88;'> </span>з<span style='background-color: #FFFF88;'> </span>сильними<span style='background-color: #FFFF88;'> </span>кар<span style='background-color: #FFFF88;'> </span>&apos;<div style='display:inline-block;background-color: #FF0000;width:2px;margin-right:-2px;height:1.5em;'></div>єрних<span style='background-color: #FFFF88;'> </span>устремлінь<span style='background-color: #FFFF88;'> </span>.<span style='background-color: #FFFF88;'> </span>&#91;<span style='background-color: #FFFF88;'> </span>+<span style='background-color: #FFFF88;'> </span>&#93;</td>\n",
       "      <td id=\"T_a8995_row14_col3\" class=\"data row14 col3\" >Інтернет магістр права ( LL.M ) в області міжнародного комерційного права є основною кваліфікацією управління для юристів і менеджерів , які бажають зміцнити свої правові знання ; Дослідження показують , що LL.M є каталізатором для людей з сильними кар &apos;єрних устремлінь . &#91; + &#93;</td>\n",
       "    </tr>\n",
       "    <tr>\n",
       "      <th id=\"T_a8995_level0_row15\" class=\"row_heading level0 row15\" >144</th>\n",
       "      <td id=\"T_a8995_row15_col0\" class=\"data row15 col0\" >У GTS4B для правильного ідентифікації даних з Ruptela FM-Eco4 Light у діалоговому вікні властивостей об'єкта вкажіть наступні значення поля:</td>\n",
       "      <td id=\"T_a8995_row15_col1\" class=\"data row15 col1\" >У GTS4B для правильного ідентифікації даних з Ruptela FM @-@ Eco4 Light у діалоговому вікні властивостей об &apos; єкта вкажіть наступні значення поля :</td>\n",
       "      <td id=\"T_a8995_row15_col2\" class=\"data row15 col2\" >У<span style='background-color: #FFFF88;'> </span>GTS4B<span style='background-color: #FFFF88;'> </span>для<span style='background-color: #FFFF88;'> </span>правильного<span style='background-color: #FFFF88;'> </span>ідентифікації<span style='background-color: #FFFF88;'> </span>даних<span style='background-color: #FFFF88;'> </span>з<span style='background-color: #FFFF88;'> </span>Ruptela<span style='background-color: #FFFF88;'> </span>FM<span style='background-color: #FFFF88;'> </span>@-@<span style='background-color: #FFFF88;'> </span>Eco4<span style='background-color: #FFFF88;'> </span>Light<span style='background-color: #FFFF88;'> </span>у<span style='background-color: #FFFF88;'> </span>діалоговому<span style='background-color: #FFFF88;'> </span>вікні<span style='background-color: #FFFF88;'> </span>властивостей<span style='background-color: #FFFF88;'> </span>об<span style='background-color: #FFFF88;'> </span>&apos;<div style='display:inline-block;background-color: #FF0000;width:2px;margin-right:-2px;height:1.5em;'></div>єкта<span style='background-color: #FFFF88;'> </span>вкажіть<span style='background-color: #FFFF88;'> </span>наступні<span style='background-color: #FFFF88;'> </span>значення<span style='background-color: #FFFF88;'> </span>поля<span style='background-color: #FFFF88;'> </span>:</td>\n",
       "      <td id=\"T_a8995_row15_col3\" class=\"data row15 col3\" >У GTS4B для правильного ідентифікації даних з Ruptela FM @-@ Eco4 Light у діалоговому вікні властивостей об &apos;єкта вкажіть наступні значення поля :</td>\n",
       "    </tr>\n",
       "    <tr>\n",
       "      <th id=\"T_a8995_level0_row16\" class=\"row_heading level0 row16\" >159</th>\n",
       "      <td id=\"T_a8995_row16_col0\" class=\"data row16 col0\" >У доповненні до відстаней, інші географічні відносини, такі як з'єднання (наприклад, наявність або ступінь спільних кордонів) і напрямки можуть також впливати на відносини між суб'єктами.</td>\n",
       "      <td id=\"T_a8995_row16_col1\" class=\"data row16 col1\" >У доповненні до відстаней , інші географічні відносини , такі як з &apos; єднання ( наприклад , наявність або ступінь спільних кордонів ) і напрямки можуть також впливати на відносини між суб &apos; єктами .</td>\n",
       "      <td id=\"T_a8995_row16_col2\" class=\"data row16 col2\" >У<span style='background-color: #FFFF88;'> </span>доповненні<span style='background-color: #FFFF88;'> </span>до<span style='background-color: #FFFF88;'> </span>відстаней<span style='background-color: #FFFF88;'> </span>,<span style='background-color: #FFFF88;'> </span>інші<span style='background-color: #FFFF88;'> </span>географічні<span style='background-color: #FFFF88;'> </span>відносини<span style='background-color: #FFFF88;'> </span>,<span style='background-color: #FFFF88;'> </span>такі<span style='background-color: #FFFF88;'> </span>як<span style='background-color: #FFFF88;'> </span>з<span style='background-color: #FFFF88;'> </span>&apos;<div style='display:inline-block;background-color: #FF0000;width:2px;margin-right:-2px;height:1.5em;'></div>єднання<span style='background-color: #FFFF88;'> </span>(<span style='background-color: #FFFF88;'> </span>наприклад<span style='background-color: #FFFF88;'> </span>,<span style='background-color: #FFFF88;'> </span>наявність<span style='background-color: #FFFF88;'> </span>або<span style='background-color: #FFFF88;'> </span>ступінь<span style='background-color: #FFFF88;'> </span>спільних<span style='background-color: #FFFF88;'> </span>кордонів<span style='background-color: #FFFF88;'> </span>)<span style='background-color: #FFFF88;'> </span>і<span style='background-color: #FFFF88;'> </span>напрямки<span style='background-color: #FFFF88;'> </span>можуть<span style='background-color: #FFFF88;'> </span>також<span style='background-color: #FFFF88;'> </span>впливати<span style='background-color: #FFFF88;'> </span>на<span style='background-color: #FFFF88;'> </span>відносини<span style='background-color: #FFFF88;'> </span>між<span style='background-color: #FFFF88;'> </span>суб<span style='background-color: #FFFF88;'> </span>&apos;<div style='display:inline-block;background-color: #FF0000;width:2px;margin-right:-2px;height:1.5em;'></div>єктами<span style='background-color: #FFFF88;'> </span>.</td>\n",
       "      <td id=\"T_a8995_row16_col3\" class=\"data row16 col3\" >У доповненні до відстаней , інші географічні відносини , такі як з &apos;єднання ( наприклад , наявність або ступінь спільних кордонів ) і напрямки можуть також впливати на відносини між суб &apos;єктами .</td>\n",
       "    </tr>\n",
       "    <tr>\n",
       "      <th id=\"T_a8995_level0_row17\" class=\"row_heading level0 row17\" >165</th>\n",
       "      <td id=\"T_a8995_row17_col0\" class=\"data row17 col0\" >Дякую за все, ким ви є.</td>\n",
       "      <td id=\"T_a8995_row17_col1\" class=\"data row17 col1\" >Дякую за все , ким ви є.</td>\n",
       "      <td id=\"T_a8995_row17_col2\" class=\"data row17 col2\" >Дякую<span style='background-color: #FFFF88;'> </span>за<span style='background-color: #FFFF88;'> </span>все<span style='background-color: #FFFF88;'> </span>,<span style='background-color: #FFFF88;'> </span>ким<span style='background-color: #FFFF88;'> </span>ви<span style='background-color: #FFFF88;'> </span>є<span style='background-color: #88FF88;'> </span>.</td>\n",
       "      <td id=\"T_a8995_row17_col3\" class=\"data row17 col3\" >Дякую за все , ким ви є .</td>\n",
       "    </tr>\n",
       "    <tr>\n",
       "      <th id=\"T_a8995_level0_row18\" class=\"row_heading level0 row18\" >170</th>\n",
       "      <td id=\"T_a8995_row18_col0\" class=\"data row18 col0\" >І вийшов він знов о годині десь шостій й дев'ятій, і те саме зробив.</td>\n",
       "      <td id=\"T_a8995_row18_col1\" class=\"data row18 col1\" >І вийшов він знов о годині десь шостій й дев &apos; ятій , і те саме зробив .</td>\n",
       "      <td id=\"T_a8995_row18_col2\" class=\"data row18 col2\" >І<span style='background-color: #FFFF88;'> </span>вийшов<span style='background-color: #FFFF88;'> </span>він<span style='background-color: #FFFF88;'> </span>знов<span style='background-color: #FFFF88;'> </span>о<span style='background-color: #FFFF88;'> </span>годині<span style='background-color: #FFFF88;'> </span>десь<span style='background-color: #FFFF88;'> </span>шостій<span style='background-color: #FFFF88;'> </span>й<span style='background-color: #FFFF88;'> </span>дев<span style='background-color: #FFFF88;'> </span>&apos;<div style='display:inline-block;background-color: #FF0000;width:2px;margin-right:-2px;height:1.5em;'></div>ятій<span style='background-color: #FFFF88;'> </span>,<span style='background-color: #FFFF88;'> </span>і<span style='background-color: #FFFF88;'> </span>те<span style='background-color: #FFFF88;'> </span>саме<span style='background-color: #FFFF88;'> </span>зробив<span style='background-color: #FFFF88;'> </span>.</td>\n",
       "      <td id=\"T_a8995_row18_col3\" class=\"data row18 col3\" >І вийшов він знов о годині десь шостій й дев &apos;ятій , і те саме зробив .</td>\n",
       "    </tr>\n",
       "    <tr>\n",
       "      <th id=\"T_a8995_level0_row19\" class=\"row_heading level0 row19\" >178</th>\n",
       "      <td id=\"T_a8995_row19_col0\" class=\"data row19 col0\" >Вad Company успішно гастролювали впродовж 1973—1982 років і випустили декілька хітів: «Can't Get Enough», «Feel Like Makin' Love», «Bad Company», «Shooting Star», та «Run with the Pack».</td>\n",
       "      <td id=\"T_a8995_row19_col1\" class=\"data row19 col1\" >Вad Company успішно гастролювали впродовж 1973 — 1982 років і випустили декілька хітів : « Can &apos; t Get Enough » , « Feel Like Makin &apos; Love » , « Bad Company » , « Shooting Star » , та « Run with the Pack » .</td>\n",
       "      <td id=\"T_a8995_row19_col2\" class=\"data row19 col2\" >Вad<span style='background-color: #FFFF88;'> </span>Company<span style='background-color: #FFFF88;'> </span>успішно<span style='background-color: #FFFF88;'> </span>гастролювали<span style='background-color: #FFFF88;'> </span>впродовж<span style='background-color: #FFFF88;'> </span>1973<span style='background-color: #FFFF88;'> </span>—<span style='background-color: #FFFF88;'> </span>1982<span style='background-color: #FFFF88;'> </span>років<span style='background-color: #FFFF88;'> </span>і<span style='background-color: #FFFF88;'> </span>випустили<span style='background-color: #FFFF88;'> </span>декілька<span style='background-color: #FFFF88;'> </span>хітів<span style='background-color: #FFFF88;'> </span>:<span style='background-color: #FFFF88;'> </span>«<span style='background-color: #FFFF88;'> </span>Can<span style='background-color: #FFFF88;'> </span>&apos;<div style='display:inline-block;background-color: #FF0000;width:2px;margin-right:-2px;height:1.5em;'></div>t<span style='background-color: #FFFF88;'> </span>Get<span style='background-color: #FFFF88;'> </span>Enough<span style='background-color: #FFFF88;'> </span>»<span style='background-color: #FFFF88;'> </span>,<span style='background-color: #FFFF88;'> </span>«<span style='background-color: #FFFF88;'> </span>Feel<span style='background-color: #FFFF88;'> </span>Like<span style='background-color: #FFFF88;'> </span>Makin<span style='background-color: #FFFF88;'> </span>&apos;<span style='background-color: #FFFF88;'> </span>Love<span style='background-color: #FFFF88;'> </span>»<span style='background-color: #FFFF88;'> </span>,<span style='background-color: #FFFF88;'> </span>«<span style='background-color: #FFFF88;'> </span>Bad<span style='background-color: #FFFF88;'> </span>Company<span style='background-color: #FFFF88;'> </span>»<span style='background-color: #FFFF88;'> </span>,<span style='background-color: #FFFF88;'> </span>«<span style='background-color: #FFFF88;'> </span>Shooting<span style='background-color: #FFFF88;'> </span>Star<span style='background-color: #FFFF88;'> </span>»<span style='background-color: #FFFF88;'> </span>,<span style='background-color: #FFFF88;'> </span>та<span style='background-color: #FFFF88;'> </span>«<span style='background-color: #FFFF88;'> </span>Run<span style='background-color: #FFFF88;'> </span>with<span style='background-color: #FFFF88;'> </span>the<span style='background-color: #FFFF88;'> </span>Pack<span style='background-color: #FFFF88;'> </span>»<span style='background-color: #FFFF88;'> </span>.</td>\n",
       "      <td id=\"T_a8995_row19_col3\" class=\"data row19 col3\" >Вad Company успішно гастролювали впродовж 1973 — 1982 років і випустили декілька хітів : « Can &apos;t Get Enough » , « Feel Like Makin &apos; Love » , « Bad Company » , « Shooting Star » , та « Run with the Pack » .</td>\n",
       "    </tr>\n",
       "  </tbody>\n",
       "</table>\n"
      ],
      "text/plain": [
       "<pandas.io.formats.style.Styler at 0x7f4f7041d990>"
      ]
     },
     "execution_count": 186,
     "metadata": {},
     "output_type": "execute_result"
    }
   ],
   "source": [
    "# show some examples for these differences\n",
    "df_filtered = df[df.moses_en != df.moses_uk][:20]\n",
    "diffs = df_filtered.apply(lambda row: display_diff(difflib.SequenceMatcher(None, row[\"moses_uk\"], row[\"moses_en\"])), axis=1)\n",
    "pd.DataFrame({\n",
    "    \"original\": df_filtered.original,\n",
    "    \"moses_uk\": df_filtered.moses_uk,\n",
    "    \"moses_uk versus moses_en\": diffs,\n",
    "    \"moses_en\": df_filtered.moses_en,\n",
    "}).style"
   ]
  },
  {
   "cell_type": "markdown",
   "id": "c2e677bf",
   "metadata": {},
   "source": [
    "# Observations\n",
    "- english moses seems to handle apostrophe differently (joins it to next word)\n",
    "- english moses separates \"км.\", \"ст.\", \"р.\" and \"є.\", probably the effect of using the breaking prefixes [examples: 5, 55, 127, and 165]"
   ]
  },
  {
   "cell_type": "markdown",
   "id": "c242c3a1",
   "metadata": {},
   "source": [
    "# How much Tokenize_UK and Moses+ukrainian differ?"
   ]
  },
  {
   "cell_type": "code",
   "execution_count": 191,
   "id": "73d3dd59",
   "metadata": {},
   "outputs": [
    {
     "data": {
      "text/plain": [
       "2104"
      ]
     },
     "execution_count": 191,
     "metadata": {},
     "output_type": "execute_result"
    }
   ],
   "source": [
    "# how often tokenize_uk differs from Moses with english breaking prefixes\n",
    "sum(df.tokenize_uk != df.moses_en)"
   ]
  },
  {
   "cell_type": "code",
   "execution_count": 187,
   "id": "5b2e1841",
   "metadata": {},
   "outputs": [
    {
     "data": {
      "text/plain": [
       "2160"
      ]
     },
     "execution_count": 187,
     "metadata": {},
     "output_type": "execute_result"
    }
   ],
   "source": [
    "# how often tokenize_uk differs from Moses with uk breaking prefixes\n",
    "sum(df.tokenize_uk != df.moses_uk)"
   ]
  },
  {
   "cell_type": "markdown",
   "id": "02ed5b66",
   "metadata": {},
   "source": [
    "<h2>Legend for the detailed view</h2>\n",
    "For tokenizer_A VS tokenizer_B:<br>\n",
    "<span style='background-color: #FFFF88;'>yellow</span> = separating space between tokens present in both A and B<br>\n",
    "<span style='background-color: #88FF88;'>green</span> = space present in B, missing in A<br>\n",
    "<span style='background-color: #FF0000;'>red line</span> = space present in A, missing in B<br>\n",
    "<span style='background-color: #FF88FF;'>purple</span> = replaced substring<br>"
   ]
  },
  {
   "cell_type": "code",
   "execution_count": 192,
   "id": "c7de85d4",
   "metadata": {},
   "outputs": [
    {
     "data": {
      "text/html": [
       "<style type=\"text/css\">\n",
       "</style>\n",
       "<table id=\"T_49a77\">\n",
       "  <thead>\n",
       "    <tr>\n",
       "      <th class=\"blank level0\" >&nbsp;</th>\n",
       "      <th id=\"T_49a77_level0_col0\" class=\"col_heading level0 col0\" >original</th>\n",
       "      <th id=\"T_49a77_level0_col1\" class=\"col_heading level0 col1\" >tokenize_uk</th>\n",
       "      <th id=\"T_49a77_level0_col2\" class=\"col_heading level0 col2\" >tokenize_uk versus moses_uk</th>\n",
       "      <th id=\"T_49a77_level0_col3\" class=\"col_heading level0 col3\" >moses_uk</th>\n",
       "    </tr>\n",
       "  </thead>\n",
       "  <tbody>\n",
       "    <tr>\n",
       "      <th id=\"T_49a77_level0_row0\" class=\"row_heading level0 row0\" >1</th>\n",
       "      <td id=\"T_49a77_row0_col0\" class=\"data row0 col0\" >Elizabeth січень 18, 20172017-01-18T00:01:44+00:002017-08-22T20:32:29+00:00 підприємництво</td>\n",
       "      <td id=\"T_49a77_row0_col1\" class=\"data row0 col1\" >Elizabeth січень 18 , 20172017-01-18 T00 : 01 : 44 +00 : 002017-08-22 T20 : 32 : 29 +00 : 00 підприємництво</td>\n",
       "      <td id=\"T_49a77_row0_col2\" class=\"data row0 col2\" >Elizabeth<span style='background-color: #FFFF88;'> </span>січень<span style='background-color: #FFFF88;'> </span>18<span style='background-color: #FFFF88;'> </span>,<span style='background-color: #FFFF88;'> </span>20172017<span style='background-color: #88FF88;'> @</span>-<span style='background-color: #88FF88;'>@ </span>01<span style='background-color: #88FF88;'> @</span>-<span style='background-color: #88FF88;'>@ </span>18<div style='display:inline-block;background-color: #FF0000;width:2px;margin-right:-2px;height:1.5em;'></div>T00<span style='background-color: #FFFF88;'> </span>:<span style='background-color: #FFFF88;'> </span>01<span style='background-color: #FFFF88;'> </span>:<span style='background-color: #FFFF88;'> </span>44<span style='background-color: #FFFF88;'> </span>+<span style='background-color: #88FF88;'> </span>00<span style='background-color: #FFFF88;'> </span>:<span style='background-color: #FFFF88;'> </span>002017<span style='background-color: #88FF88;'> @</span>-<span style='background-color: #88FF88;'>@ </span>08<span style='background-color: #88FF88;'> @</span>-<span style='background-color: #88FF88;'>@ </span>22<div style='display:inline-block;background-color: #FF0000;width:2px;margin-right:-2px;height:1.5em;'></div>T20<span style='background-color: #FFFF88;'> </span>:<span style='background-color: #FFFF88;'> </span>32<span style='background-color: #FFFF88;'> </span>:<span style='background-color: #FFFF88;'> </span>29<span style='background-color: #FFFF88;'> </span>+<span style='background-color: #88FF88;'> </span>00<span style='background-color: #FFFF88;'> </span>:<span style='background-color: #FFFF88;'> </span>00<span style='background-color: #FFFF88;'> </span>підприємництво</td>\n",
       "      <td id=\"T_49a77_row0_col3\" class=\"data row0 col3\" >Elizabeth січень 18 , 20172017 @-@ 01 @-@ 18T00 : 01 : 44 + 00 : 002017 @-@ 08 @-@ 22T20 : 32 : 29 + 00 : 00 підприємництво</td>\n",
       "    </tr>\n",
       "    <tr>\n",
       "      <th id=\"T_49a77_level0_row1\" class=\"row_heading level0 row1\" >5</th>\n",
       "      <td id=\"T_49a77_row1_col0\" class=\"data row1 col0\" >За 75 секунд польоту він подолав відстань 3 км.</td>\n",
       "      <td id=\"T_49a77_row1_col1\" class=\"data row1 col1\" >За 75 секунд польоту він подолав відстань 3 км .</td>\n",
       "      <td id=\"T_49a77_row1_col2\" class=\"data row1 col2\" >За<span style='background-color: #FFFF88;'> </span>75<span style='background-color: #FFFF88;'> </span>секунд<span style='background-color: #FFFF88;'> </span>польоту<span style='background-color: #FFFF88;'> </span>він<span style='background-color: #FFFF88;'> </span>подолав<span style='background-color: #FFFF88;'> </span>відстань<span style='background-color: #FFFF88;'> </span>3<span style='background-color: #FFFF88;'> </span>км<div style='display:inline-block;background-color: #FF0000;width:2px;margin-right:-2px;height:1.5em;'></div>.</td>\n",
       "      <td id=\"T_49a77_row1_col3\" class=\"data row1 col3\" >За 75 секунд польоту він подолав відстань 3 км.</td>\n",
       "    </tr>\n",
       "    <tr>\n",
       "      <th id=\"T_49a77_level0_row2\" class=\"row_heading level0 row2\" >11</th>\n",
       "      <td id=\"T_49a77_row2_col0\" class=\"data row2 col0\" >Чисельні націонал-європейські діячі зрештою долучились до лав маоїстів.</td>\n",
       "      <td id=\"T_49a77_row2_col1\" class=\"data row2 col1\" >Чисельні націонал - європейські діячі зрештою долучились до лав маоїстів .</td>\n",
       "      <td id=\"T_49a77_row2_col2\" class=\"data row2 col2\" >Чисельні<span style='background-color: #FFFF88;'> </span>націонал<span style='background-color: #FFFF88;'> </span><span style='background-color: #88FF88;'>@</span>-<span style='background-color: #88FF88;'>@</span><span style='background-color: #FFFF88;'> </span>європейські<span style='background-color: #FFFF88;'> </span>діячі<span style='background-color: #FFFF88;'> </span>зрештою<span style='background-color: #FFFF88;'> </span>долучились<span style='background-color: #FFFF88;'> </span>до<span style='background-color: #FFFF88;'> </span>лав<span style='background-color: #FFFF88;'> </span>маоїстів<span style='background-color: #FFFF88;'> </span>.</td>\n",
       "      <td id=\"T_49a77_row2_col3\" class=\"data row2 col3\" >Чисельні націонал @-@ європейські діячі зрештою долучились до лав маоїстів .</td>\n",
       "    </tr>\n",
       "    <tr>\n",
       "      <th id=\"T_49a77_level0_row3\" class=\"row_heading level0 row3\" >12</th>\n",
       "      <td id=\"T_49a77_row3_col0\" class=\"data row3 col0\" >OnePlus 2 огляд: справжній \"Флагман вбивця\"?</td>\n",
       "      <td id=\"T_49a77_row3_col1\" class=\"data row3 col1\" >OnePlus 2 огляд : справжній \" Флагман вбивця \" ?</td>\n",
       "      <td id=\"T_49a77_row3_col2\" class=\"data row3 col2\" >OnePlus<span style='background-color: #FFFF88;'> </span>2<span style='background-color: #FFFF88;'> </span>огляд<span style='background-color: #FFFF88;'> </span>:<span style='background-color: #FFFF88;'> </span>справжній<span style='background-color: #FFFF88;'> </span><span style='background-color: #FF88FF;'>&quot;</span><span style='background-color: #FFFF88;'> </span>Флагман<span style='background-color: #FFFF88;'> </span>вбивця<span style='background-color: #FFFF88;'> </span><span style='background-color: #FF88FF;'>&quot;</span><span style='background-color: #FFFF88;'> </span>?</td>\n",
       "      <td id=\"T_49a77_row3_col3\" class=\"data row3 col3\" >OnePlus 2 огляд : справжній &quot; Флагман вбивця &quot; ?</td>\n",
       "    </tr>\n",
       "    <tr>\n",
       "      <th id=\"T_49a77_level0_row4\" class=\"row_heading level0 row4\" >18</th>\n",
       "      <td id=\"T_49a77_row4_col0\" class=\"data row4 col0\" >, Відвідайте наш Інтернет-магазин для перегляду передач, частини і аксесуари для продажу, якщо ви не можете знайти те, що ви шукаєте або потрібна допомога, зв'яжіться з нами або зателефонувати нам з понеділка по п'ятницю 8 ранку до 5 вечора EST в 877-776-4600 або 407-872-1901.</td>\n",
       "      <td id=\"T_49a77_row4_col1\" class=\"data row4 col1\" >, Відвідайте наш Інтернет - магазин для перегляду передач , частини і аксесуари для продажу , якщо ви не можете знайти те , що ви шукаєте або потрібна допомога , зв'яжіться з нами або зателефонувати нам з понеділка по п'ятницю 8 ранку до 5 вечора EST в 877-776-4600 або 407-872-1901 .</td>\n",
       "      <td id=\"T_49a77_row4_col2\" class=\"data row4 col2\" >,<span style='background-color: #FFFF88;'> </span>Відвідайте<span style='background-color: #FFFF88;'> </span>наш<span style='background-color: #FFFF88;'> </span>Інтернет<span style='background-color: #FFFF88;'> </span><span style='background-color: #FF88FF;'>@-@</span><span style='background-color: #FFFF88;'> </span>магазин<span style='background-color: #FFFF88;'> </span>для<span style='background-color: #FFFF88;'> </span>перегляду<span style='background-color: #FFFF88;'> </span>передач<span style='background-color: #FFFF88;'> </span>,<span style='background-color: #FFFF88;'> </span>частини<span style='background-color: #FFFF88;'> </span>і<span style='background-color: #FFFF88;'> </span>аксесуари<span style='background-color: #FFFF88;'> </span>для<span style='background-color: #FFFF88;'> </span>продажу<span style='background-color: #FFFF88;'> </span>,<span style='background-color: #FFFF88;'> </span>якщо<span style='background-color: #FFFF88;'> </span>ви<span style='background-color: #FFFF88;'> </span>не<span style='background-color: #FFFF88;'> </span>можете<span style='background-color: #FFFF88;'> </span>знайти<span style='background-color: #FFFF88;'> </span>те<span style='background-color: #FFFF88;'> </span>,<span style='background-color: #FFFF88;'> </span>що<span style='background-color: #FFFF88;'> </span>ви<span style='background-color: #FFFF88;'> </span>шукаєте<span style='background-color: #FFFF88;'> </span>або<span style='background-color: #FFFF88;'> </span>потрібна<span style='background-color: #FFFF88;'> </span>допомога<span style='background-color: #FFFF88;'> </span>,<span style='background-color: #FFFF88;'> </span>зв<span style='background-color: #FF88FF;'> &apos; </span>яжіться<span style='background-color: #FFFF88;'> </span>з<span style='background-color: #FFFF88;'> </span>нами<span style='background-color: #FFFF88;'> </span>або<span style='background-color: #FFFF88;'> </span>зателефонувати<span style='background-color: #FFFF88;'> </span>нам<span style='background-color: #FFFF88;'> </span>з<span style='background-color: #FFFF88;'> </span>понеділка<span style='background-color: #FFFF88;'> </span>по<span style='background-color: #FFFF88;'> </span>п<span style='background-color: #FF88FF;'> &apos; </span>ятницю<span style='background-color: #FFFF88;'> </span>8<span style='background-color: #FFFF88;'> </span>ранку<span style='background-color: #FFFF88;'> </span>до<span style='background-color: #FFFF88;'> </span>5<span style='background-color: #FFFF88;'> </span>вечора<span style='background-color: #FFFF88;'> </span>EST<span style='background-color: #FFFF88;'> </span>в<span style='background-color: #FFFF88;'> </span>877<span style='background-color: #FF88FF;'> @-@ </span>776<span style='background-color: #FF88FF;'> @-@ </span>4600<span style='background-color: #FFFF88;'> </span>або<span style='background-color: #FFFF88;'> </span>407<span style='background-color: #FF88FF;'> @-@ </span>872<span style='background-color: #FF88FF;'> @-@ </span>1901<span style='background-color: #FFFF88;'> </span>.</td>\n",
       "      <td id=\"T_49a77_row4_col3\" class=\"data row4 col3\" >, Відвідайте наш Інтернет @-@ магазин для перегляду передач , частини і аксесуари для продажу , якщо ви не можете знайти те , що ви шукаєте або потрібна допомога , зв &apos; яжіться з нами або зателефонувати нам з понеділка по п &apos; ятницю 8 ранку до 5 вечора EST в 877 @-@ 776 @-@ 4600 або 407 @-@ 872 @-@ 1901 .</td>\n",
       "    </tr>\n",
       "    <tr>\n",
       "      <th id=\"T_49a77_level0_row5\" class=\"row_heading level0 row5\" >20</th>\n",
       "      <td id=\"T_49a77_row5_col0\" class=\"data row5 col0\" >Слоти з тегом 'Плеєр' (група Предмети) Увійти</td>\n",
       "      <td id=\"T_49a77_row5_col1\" class=\"data row5 col1\" >Слоти з тегом ' Плеєр ' ( група Предмети ) Увійти</td>\n",
       "      <td id=\"T_49a77_row5_col2\" class=\"data row5 col2\" >Слоти<span style='background-color: #FFFF88;'> </span>з<span style='background-color: #FFFF88;'> </span>тегом<span style='background-color: #FFFF88;'> </span><span style='background-color: #FF88FF;'>&apos;</span><span style='background-color: #FFFF88;'> </span>Плеєр<span style='background-color: #FFFF88;'> </span><span style='background-color: #FF88FF;'>&apos;</span><span style='background-color: #FFFF88;'> </span>(<span style='background-color: #FFFF88;'> </span>група<span style='background-color: #FFFF88;'> </span>Предмети<span style='background-color: #FFFF88;'> </span>)<span style='background-color: #FFFF88;'> </span>Увійти</td>\n",
       "      <td id=\"T_49a77_row5_col3\" class=\"data row5 col3\" >Слоти з тегом &apos; Плеєр &apos; ( група Предмети ) Увійти</td>\n",
       "    </tr>\n",
       "    <tr>\n",
       "      <th id=\"T_49a77_level0_row6\" class=\"row_heading level0 row6\" >29</th>\n",
       "      <td id=\"T_49a77_row6_col0\" class=\"data row6 col0\" >7.High перфорована задні двері прийняти двосекційний стиль з повністю вентиляції.</td>\n",
       "      <td id=\"T_49a77_row6_col1\" class=\"data row6 col1\" >7 . High перфорована задні двері прийняти двосекційний стиль з повністю вентиляції .</td>\n",
       "      <td id=\"T_49a77_row6_col2\" class=\"data row6 col2\" >7<div style='display:inline-block;background-color: #FF0000;width:2px;margin-right:-2px;height:1.5em;'></div>.<div style='display:inline-block;background-color: #FF0000;width:2px;margin-right:-2px;height:1.5em;'></div>High<span style='background-color: #FFFF88;'> </span>перфорована<span style='background-color: #FFFF88;'> </span>задні<span style='background-color: #FFFF88;'> </span>двері<span style='background-color: #FFFF88;'> </span>прийняти<span style='background-color: #FFFF88;'> </span>двосекційний<span style='background-color: #FFFF88;'> </span>стиль<span style='background-color: #FFFF88;'> </span>з<span style='background-color: #FFFF88;'> </span>повністю<span style='background-color: #FFFF88;'> </span>вентиляції<span style='background-color: #FFFF88;'> </span>.</td>\n",
       "      <td id=\"T_49a77_row6_col3\" class=\"data row6 col3\" >7.High перфорована задні двері прийняти двосекційний стиль з повністю вентиляції .</td>\n",
       "    </tr>\n",
       "    <tr>\n",
       "      <th id=\"T_49a77_level0_row7\" class=\"row_heading level0 row7\" >31</th>\n",
       "      <td id=\"T_49a77_row7_col0\" class=\"data row7 col0\" >Фраза «Хайфа працює, Єрусалим молиться, а Тель-Авів гуляє» повністю відповідає життю міста.</td>\n",
       "      <td id=\"T_49a77_row7_col1\" class=\"data row7 col1\" >Фраза « Хайфа працює , Єрусалим молиться , а Тель - Авів гуляє » повністю відповідає життю міста .</td>\n",
       "      <td id=\"T_49a77_row7_col2\" class=\"data row7 col2\" >Фраза<span style='background-color: #FFFF88;'> </span>«<span style='background-color: #FFFF88;'> </span>Хайфа<span style='background-color: #FFFF88;'> </span>працює<span style='background-color: #FFFF88;'> </span>,<span style='background-color: #FFFF88;'> </span>Єрусалим<span style='background-color: #FFFF88;'> </span>молиться<span style='background-color: #FFFF88;'> </span>,<span style='background-color: #FFFF88;'> </span>а<span style='background-color: #FFFF88;'> </span>Тель<span style='background-color: #FFFF88;'> </span><span style='background-color: #88FF88;'>@</span>-<span style='background-color: #88FF88;'>@</span><span style='background-color: #FFFF88;'> </span>Авів<span style='background-color: #FFFF88;'> </span>гуляє<span style='background-color: #FFFF88;'> </span>»<span style='background-color: #FFFF88;'> </span>повністю<span style='background-color: #FFFF88;'> </span>відповідає<span style='background-color: #FFFF88;'> </span>життю<span style='background-color: #FFFF88;'> </span>міста<span style='background-color: #FFFF88;'> </span>.</td>\n",
       "      <td id=\"T_49a77_row7_col3\" class=\"data row7 col3\" >Фраза « Хайфа працює , Єрусалим молиться , а Тель @-@ Авів гуляє » повністю відповідає життю міста .</td>\n",
       "    </tr>\n",
       "    <tr>\n",
       "      <th id=\"T_49a77_level0_row8\" class=\"row_heading level0 row8\" >32</th>\n",
       "      <td id=\"T_49a77_row8_col0\" class=\"data row8 col0\" >Щоб підключити варильну поверхню до мережі 380 Вольт, знадобиться мідний кабель, п'ять жив - ПВС 5х4мм - тільки з його допомогою можна зробити безпечне і надійне підключення.</td>\n",
       "      <td id=\"T_49a77_row8_col1\" class=\"data row8 col1\" >Щоб підключити варильну поверхню до мережі 380 Вольт , знадобиться мідний кабель , п'ять жив - ПВС 5 х4мм - тільки з його допомогою можна зробити безпечне і надійне підключення .</td>\n",
       "      <td id=\"T_49a77_row8_col2\" class=\"data row8 col2\" >Щоб<span style='background-color: #FFFF88;'> </span>підключити<span style='background-color: #FFFF88;'> </span>варильну<span style='background-color: #FFFF88;'> </span>поверхню<span style='background-color: #FFFF88;'> </span>до<span style='background-color: #FFFF88;'> </span>мережі<span style='background-color: #FFFF88;'> </span>380<span style='background-color: #FFFF88;'> </span>Вольт<span style='background-color: #FFFF88;'> </span>,<span style='background-color: #FFFF88;'> </span>знадобиться<span style='background-color: #FFFF88;'> </span>мідний<span style='background-color: #FFFF88;'> </span>кабель<span style='background-color: #FFFF88;'> </span>,<span style='background-color: #FFFF88;'> </span>п<span style='background-color: #FF88FF;'> &apos; </span>ять<span style='background-color: #FFFF88;'> </span>жив<span style='background-color: #FFFF88;'> </span>-<span style='background-color: #FFFF88;'> </span>ПВС<span style='background-color: #FFFF88;'> </span>5<div style='display:inline-block;background-color: #FF0000;width:2px;margin-right:-2px;height:1.5em;'></div>х4мм<span style='background-color: #FFFF88;'> </span>-<span style='background-color: #FFFF88;'> </span>тільки<span style='background-color: #FFFF88;'> </span>з<span style='background-color: #FFFF88;'> </span>його<span style='background-color: #FFFF88;'> </span>допомогою<span style='background-color: #FFFF88;'> </span>можна<span style='background-color: #FFFF88;'> </span>зробити<span style='background-color: #FFFF88;'> </span>безпечне<span style='background-color: #FFFF88;'> </span>і<span style='background-color: #FFFF88;'> </span>надійне<span style='background-color: #FFFF88;'> </span>підключення<span style='background-color: #FFFF88;'> </span>.</td>\n",
       "      <td id=\"T_49a77_row8_col3\" class=\"data row8 col3\" >Щоб підключити варильну поверхню до мережі 380 Вольт , знадобиться мідний кабель , п &apos; ять жив - ПВС 5х4мм - тільки з його допомогою можна зробити безпечне і надійне підключення .</td>\n",
       "    </tr>\n",
       "    <tr>\n",
       "      <th id=\"T_49a77_level0_row9\" class=\"row_heading level0 row9\" >37</th>\n",
       "      <td id=\"T_49a77_row9_col0\" class=\"data row9 col0\" >Capture NX-D – це безкоштовне програмне забезпечення, яке дає користувачам можливість удосконалювати створені зображення у форматі RAW за допомогою простих дій.</td>\n",
       "      <td id=\"T_49a77_row9_col1\" class=\"data row9 col1\" >Capture NX - D – це безкоштовне програмне забезпечення , яке дає користувачам можливість удосконалювати створені зображення у форматі RAW за допомогою простих дій .</td>\n",
       "      <td id=\"T_49a77_row9_col2\" class=\"data row9 col2\" >Capture<span style='background-color: #FFFF88;'> </span>NX<span style='background-color: #FFFF88;'> </span><span style='background-color: #88FF88;'>@</span>-<span style='background-color: #88FF88;'>@</span><span style='background-color: #FFFF88;'> </span>D<span style='background-color: #FFFF88;'> </span>–<span style='background-color: #FFFF88;'> </span>це<span style='background-color: #FFFF88;'> </span>безкоштовне<span style='background-color: #FFFF88;'> </span>програмне<span style='background-color: #FFFF88;'> </span>забезпечення<span style='background-color: #FFFF88;'> </span>,<span style='background-color: #FFFF88;'> </span>яке<span style='background-color: #FFFF88;'> </span>дає<span style='background-color: #FFFF88;'> </span>користувачам<span style='background-color: #FFFF88;'> </span>можливість<span style='background-color: #FFFF88;'> </span>удосконалювати<span style='background-color: #FFFF88;'> </span>створені<span style='background-color: #FFFF88;'> </span>зображення<span style='background-color: #FFFF88;'> </span>у<span style='background-color: #FFFF88;'> </span>форматі<span style='background-color: #FFFF88;'> </span>RAW<span style='background-color: #FFFF88;'> </span>за<span style='background-color: #FFFF88;'> </span>допомогою<span style='background-color: #FFFF88;'> </span>простих<span style='background-color: #FFFF88;'> </span>дій<span style='background-color: #FFFF88;'> </span>.</td>\n",
       "      <td id=\"T_49a77_row9_col3\" class=\"data row9 col3\" >Capture NX @-@ D – це безкоштовне програмне забезпечення , яке дає користувачам можливість удосконалювати створені зображення у форматі RAW за допомогою простих дій .</td>\n",
       "    </tr>\n",
       "    <tr>\n",
       "      <th id=\"T_49a77_level0_row10\" class=\"row_heading level0 row10\" >46</th>\n",
       "      <td id=\"T_49a77_row10_col0\" class=\"data row10 col0\" >Маленька Орися - дуже рухлива дитина, тому батькам треба берегти її від можливих травм.Ставши дорослою, вона часто легковажно ставиться до свого здоров'я, часто зловживає знеболюючими препаратами і енергетиками, чого робити ні в якому разі не можна.</td>\n",
       "      <td id=\"T_49a77_row10_col1\" class=\"data row10 col1\" >Маленька Орися - дуже рухлива дитина , тому батькам треба берегти її від можливих травм . Ставши дорослою , вона часто легковажно ставиться до свого здоров'я , часто зловживає знеболюючими препаратами і енергетиками , чого робити ні в якому разі не можна .</td>\n",
       "      <td id=\"T_49a77_row10_col2\" class=\"data row10 col2\" >Маленька<span style='background-color: #FFFF88;'> </span>Орися<span style='background-color: #FFFF88;'> </span>-<span style='background-color: #FFFF88;'> </span>дуже<span style='background-color: #FFFF88;'> </span>рухлива<span style='background-color: #FFFF88;'> </span>дитина<span style='background-color: #FFFF88;'> </span>,<span style='background-color: #FFFF88;'> </span>тому<span style='background-color: #FFFF88;'> </span>батькам<span style='background-color: #FFFF88;'> </span>треба<span style='background-color: #FFFF88;'> </span>берегти<span style='background-color: #FFFF88;'> </span>її<span style='background-color: #FFFF88;'> </span>від<span style='background-color: #FFFF88;'> </span>можливих<span style='background-color: #FFFF88;'> </span>травм<div style='display:inline-block;background-color: #FF0000;width:2px;margin-right:-2px;height:1.5em;'></div>.<div style='display:inline-block;background-color: #FF0000;width:2px;margin-right:-2px;height:1.5em;'></div>Ставши<span style='background-color: #FFFF88;'> </span>дорослою<span style='background-color: #FFFF88;'> </span>,<span style='background-color: #FFFF88;'> </span>вона<span style='background-color: #FFFF88;'> </span>часто<span style='background-color: #FFFF88;'> </span>легковажно<span style='background-color: #FFFF88;'> </span>ставиться<span style='background-color: #FFFF88;'> </span>до<span style='background-color: #FFFF88;'> </span>свого<span style='background-color: #FFFF88;'> </span>здоров<span style='background-color: #FF88FF;'> &apos; </span>я<span style='background-color: #FFFF88;'> </span>,<span style='background-color: #FFFF88;'> </span>часто<span style='background-color: #FFFF88;'> </span>зловживає<span style='background-color: #FFFF88;'> </span>знеболюючими<span style='background-color: #FFFF88;'> </span>препаратами<span style='background-color: #FFFF88;'> </span>і<span style='background-color: #FFFF88;'> </span>енергетиками<span style='background-color: #FFFF88;'> </span>,<span style='background-color: #FFFF88;'> </span>чого<span style='background-color: #FFFF88;'> </span>робити<span style='background-color: #FFFF88;'> </span>ні<span style='background-color: #FFFF88;'> </span>в<span style='background-color: #FFFF88;'> </span>якому<span style='background-color: #FFFF88;'> </span>разі<span style='background-color: #FFFF88;'> </span>не<span style='background-color: #FFFF88;'> </span>можна<span style='background-color: #FFFF88;'> </span>.</td>\n",
       "      <td id=\"T_49a77_row10_col3\" class=\"data row10 col3\" >Маленька Орися - дуже рухлива дитина , тому батькам треба берегти її від можливих травм.Ставши дорослою , вона часто легковажно ставиться до свого здоров &apos; я , часто зловживає знеболюючими препаратами і енергетиками , чого робити ні в якому разі не можна .</td>\n",
       "    </tr>\n",
       "    <tr>\n",
       "      <th id=\"T_49a77_level0_row11\" class=\"row_heading level0 row11\" >52</th>\n",
       "      <td id=\"T_49a77_row11_col0\" class=\"data row11 col0\" >Її справжнє ім'я – Адель Лорі Блу Едкінс.</td>\n",
       "      <td id=\"T_49a77_row11_col1\" class=\"data row11 col1\" >Її справжнє ім'я – Адель Лорі Блу Едкінс .</td>\n",
       "      <td id=\"T_49a77_row11_col2\" class=\"data row11 col2\" >Її<span style='background-color: #FFFF88;'> </span>справжнє<span style='background-color: #FFFF88;'> </span>ім<span style='background-color: #FF88FF;'> &apos; </span>я<span style='background-color: #FFFF88;'> </span>–<span style='background-color: #FFFF88;'> </span>Адель<span style='background-color: #FFFF88;'> </span>Лорі<span style='background-color: #FFFF88;'> </span>Блу<span style='background-color: #FFFF88;'> </span>Едкінс<span style='background-color: #FFFF88;'> </span>.</td>\n",
       "      <td id=\"T_49a77_row11_col3\" class=\"data row11 col3\" >Її справжнє ім &apos; я – Адель Лорі Блу Едкінс .</td>\n",
       "    </tr>\n",
       "    <tr>\n",
       "      <th id=\"T_49a77_level0_row12\" class=\"row_heading level0 row12\" >55</th>\n",
       "      <td id=\"T_49a77_row12_col0\" class=\"data row12 col0\" >Теорію гомеопатії розробив німецький лікар Самуель Ганеман наприкінці XVIII ст., коли сучасна медицина його розчарувала.</td>\n",
       "      <td id=\"T_49a77_row12_col1\" class=\"data row12 col1\" >Теорію гомеопатії розробив німецький лікар Самуель Ганеман наприкінці XVIII ст . , коли сучасна медицина його розчарувала .</td>\n",
       "      <td id=\"T_49a77_row12_col2\" class=\"data row12 col2\" >Теорію<span style='background-color: #FFFF88;'> </span>гомеопатії<span style='background-color: #FFFF88;'> </span>розробив<span style='background-color: #FFFF88;'> </span>німецький<span style='background-color: #FFFF88;'> </span>лікар<span style='background-color: #FFFF88;'> </span>Самуель<span style='background-color: #FFFF88;'> </span>Ганеман<span style='background-color: #FFFF88;'> </span>наприкінці<span style='background-color: #FFFF88;'> </span>XVIII<span style='background-color: #FFFF88;'> </span>ст<div style='display:inline-block;background-color: #FF0000;width:2px;margin-right:-2px;height:1.5em;'></div>.<span style='background-color: #FFFF88;'> </span>,<span style='background-color: #FFFF88;'> </span>коли<span style='background-color: #FFFF88;'> </span>сучасна<span style='background-color: #FFFF88;'> </span>медицина<span style='background-color: #FFFF88;'> </span>його<span style='background-color: #FFFF88;'> </span>розчарувала<span style='background-color: #FFFF88;'> </span>.</td>\n",
       "      <td id=\"T_49a77_row12_col3\" class=\"data row12 col3\" >Теорію гомеопатії розробив німецький лікар Самуель Ганеман наприкінці XVIII ст. , коли сучасна медицина його розчарувала .</td>\n",
       "    </tr>\n",
       "    <tr>\n",
       "      <th id=\"T_49a77_level0_row13\" class=\"row_heading level0 row13\" >56</th>\n",
       "      <td id=\"T_49a77_row13_col0\" class=\"data row13 col0\" >Для утеплення підлоги, спочатку необхідно змонтувати дерев'яні лаги, між якими потрібно прокласти утеплювач - пінопласт або мінеральну вату.</td>\n",
       "      <td id=\"T_49a77_row13_col1\" class=\"data row13 col1\" >Для утеплення підлоги , спочатку необхідно змонтувати дерев'яні лаги , між якими потрібно прокласти утеплювач - пінопласт або мінеральну вату .</td>\n",
       "      <td id=\"T_49a77_row13_col2\" class=\"data row13 col2\" >Для<span style='background-color: #FFFF88;'> </span>утеплення<span style='background-color: #FFFF88;'> </span>підлоги<span style='background-color: #FFFF88;'> </span>,<span style='background-color: #FFFF88;'> </span>спочатку<span style='background-color: #FFFF88;'> </span>необхідно<span style='background-color: #FFFF88;'> </span>змонтувати<span style='background-color: #FFFF88;'> </span>дерев<span style='background-color: #FF88FF;'> &apos; </span>яні<span style='background-color: #FFFF88;'> </span>лаги<span style='background-color: #FFFF88;'> </span>,<span style='background-color: #FFFF88;'> </span>між<span style='background-color: #FFFF88;'> </span>якими<span style='background-color: #FFFF88;'> </span>потрібно<span style='background-color: #FFFF88;'> </span>прокласти<span style='background-color: #FFFF88;'> </span>утеплювач<span style='background-color: #FFFF88;'> </span>-<span style='background-color: #FFFF88;'> </span>пінопласт<span style='background-color: #FFFF88;'> </span>або<span style='background-color: #FFFF88;'> </span>мінеральну<span style='background-color: #FFFF88;'> </span>вату<span style='background-color: #FFFF88;'> </span>.</td>\n",
       "      <td id=\"T_49a77_row13_col3\" class=\"data row13 col3\" >Для утеплення підлоги , спочатку необхідно змонтувати дерев &apos; яні лаги , між якими потрібно прокласти утеплювач - пінопласт або мінеральну вату .</td>\n",
       "    </tr>\n",
       "    <tr>\n",
       "      <th id=\"T_49a77_level0_row14\" class=\"row_heading level0 row14\" >58</th>\n",
       "      <td id=\"T_49a77_row14_col0\" class=\"data row14 col0\" >У червні 1915 р. був поранений.</td>\n",
       "      <td id=\"T_49a77_row14_col1\" class=\"data row14 col1\" >У червні 1915 р . був поранений .</td>\n",
       "      <td id=\"T_49a77_row14_col2\" class=\"data row14 col2\" >У<span style='background-color: #FFFF88;'> </span>червні<span style='background-color: #FFFF88;'> </span>1915<span style='background-color: #FFFF88;'> </span>р<div style='display:inline-block;background-color: #FF0000;width:2px;margin-right:-2px;height:1.5em;'></div>.<span style='background-color: #FFFF88;'> </span>був<span style='background-color: #FFFF88;'> </span>поранений<span style='background-color: #FFFF88;'> </span>.</td>\n",
       "      <td id=\"T_49a77_row14_col3\" class=\"data row14 col3\" >У червні 1915 р. був поранений .</td>\n",
       "    </tr>\n",
       "    <tr>\n",
       "      <th id=\"T_49a77_level0_row15\" class=\"row_heading level0 row15\" >59</th>\n",
       "      <td id=\"T_49a77_row15_col0\" class=\"data row15 col0\" >Стимулювання довгострокового успіху через полум'яної пошуках істини, мети і самопізнання.</td>\n",
       "      <td id=\"T_49a77_row15_col1\" class=\"data row15 col1\" >Стимулювання довгострокового успіху через полум'яної пошуках істини , мети і самопізнання .</td>\n",
       "      <td id=\"T_49a77_row15_col2\" class=\"data row15 col2\" >Стимулювання<span style='background-color: #FFFF88;'> </span>довгострокового<span style='background-color: #FFFF88;'> </span>успіху<span style='background-color: #FFFF88;'> </span>через<span style='background-color: #FFFF88;'> </span>полум<span style='background-color: #FF88FF;'> &apos; </span>яної<span style='background-color: #FFFF88;'> </span>пошуках<span style='background-color: #FFFF88;'> </span>істини<span style='background-color: #FFFF88;'> </span>,<span style='background-color: #FFFF88;'> </span>мети<span style='background-color: #FFFF88;'> </span>і<span style='background-color: #FFFF88;'> </span>самопізнання<span style='background-color: #FFFF88;'> </span>.</td>\n",
       "      <td id=\"T_49a77_row15_col3\" class=\"data row15 col3\" >Стимулювання довгострокового успіху через полум &apos; яної пошуках істини , мети і самопізнання .</td>\n",
       "    </tr>\n",
       "    <tr>\n",
       "      <th id=\"T_49a77_level0_row16\" class=\"row_heading level0 row16\" >64</th>\n",
       "      <td id=\"T_49a77_row16_col0\" class=\"data row16 col0\" >Деякі основні здоров'я переваги глоду листя Extract</td>\n",
       "      <td id=\"T_49a77_row16_col1\" class=\"data row16 col1\" >Деякі основні здоров'я переваги глоду листя Extract</td>\n",
       "      <td id=\"T_49a77_row16_col2\" class=\"data row16 col2\" >Деякі<span style='background-color: #FFFF88;'> </span>основні<span style='background-color: #FFFF88;'> </span>здоров<span style='background-color: #FF88FF;'> &apos; </span>я<span style='background-color: #FFFF88;'> </span>переваги<span style='background-color: #FFFF88;'> </span>глоду<span style='background-color: #FFFF88;'> </span>листя<span style='background-color: #FFFF88;'> </span>Extract</td>\n",
       "      <td id=\"T_49a77_row16_col3\" class=\"data row16 col3\" >Деякі основні здоров &apos; я переваги глоду листя Extract</td>\n",
       "    </tr>\n",
       "    <tr>\n",
       "      <th id=\"T_49a77_level0_row17\" class=\"row_heading level0 row17\" >76</th>\n",
       "      <td id=\"T_49a77_row17_col0\" class=\"data row17 col0\" >Молодий Підлітковий вік Жити &#x40; Публічний...</td>\n",
       "      <td id=\"T_49a77_row17_col1\" class=\"data row17 col1\" >Молодий Підлітковий вік Жити & # x40 ; Публічний ...</td>\n",
       "      <td id=\"T_49a77_row17_col2\" class=\"data row17 col2\" >Молодий<span style='background-color: #FFFF88;'> </span>Підлітковий<span style='background-color: #FFFF88;'> </span>вік<span style='background-color: #FFFF88;'> </span>Жити<span style='background-color: #FFFF88;'> </span>&<span style='background-color: #88FF88;'>amp;</span><span style='background-color: #FFFF88;'> </span>#<span style='background-color: #FFFF88;'> </span>x40<span style='background-color: #FFFF88;'> </span>;<span style='background-color: #FFFF88;'> </span>Публічний<span style='background-color: #FFFF88;'> </span>...</td>\n",
       "      <td id=\"T_49a77_row17_col3\" class=\"data row17 col3\" >Молодий Підлітковий вік Жити &amp; # x40 ; Публічний ...</td>\n",
       "    </tr>\n",
       "    <tr>\n",
       "      <th id=\"T_49a77_level0_row18\" class=\"row_heading level0 row18\" >80</th>\n",
       "      <td id=\"T_49a77_row18_col0\" class=\"data row18 col0\" >Параметр надсилання пропозицій та звітів про помилки з головного меню тепер відкриває вкладку веб-браузера на веб-сторінку BriskBard.</td>\n",
       "      <td id=\"T_49a77_row18_col1\" class=\"data row18 col1\" >Параметр надсилання пропозицій та звітів про помилки з головного меню тепер відкриває вкладку веб - браузера на веб - сторінку BriskBard .</td>\n",
       "      <td id=\"T_49a77_row18_col2\" class=\"data row18 col2\" >Параметр<span style='background-color: #FFFF88;'> </span>надсилання<span style='background-color: #FFFF88;'> </span>пропозицій<span style='background-color: #FFFF88;'> </span>та<span style='background-color: #FFFF88;'> </span>звітів<span style='background-color: #FFFF88;'> </span>про<span style='background-color: #FFFF88;'> </span>помилки<span style='background-color: #FFFF88;'> </span>з<span style='background-color: #FFFF88;'> </span>головного<span style='background-color: #FFFF88;'> </span>меню<span style='background-color: #FFFF88;'> </span>тепер<span style='background-color: #FFFF88;'> </span>відкриває<span style='background-color: #FFFF88;'> </span>вкладку<span style='background-color: #FFFF88;'> </span>веб<span style='background-color: #FFFF88;'> </span><span style='background-color: #88FF88;'>@</span>-<span style='background-color: #88FF88;'>@</span><span style='background-color: #FFFF88;'> </span>браузера<span style='background-color: #FFFF88;'> </span>на<span style='background-color: #FFFF88;'> </span>веб<span style='background-color: #FFFF88;'> </span><span style='background-color: #88FF88;'>@</span>-<span style='background-color: #88FF88;'>@</span><span style='background-color: #FFFF88;'> </span>сторінку<span style='background-color: #FFFF88;'> </span>BriskBard<span style='background-color: #FFFF88;'> </span>.</td>\n",
       "      <td id=\"T_49a77_row18_col3\" class=\"data row18 col3\" >Параметр надсилання пропозицій та звітів про помилки з головного меню тепер відкриває вкладку веб @-@ браузера на веб @-@ сторінку BriskBard .</td>\n",
       "    </tr>\n",
       "    <tr>\n",
       "      <th id=\"T_49a77_level0_row19\" class=\"row_heading level0 row19\" >83</th>\n",
       "      <td id=\"T_49a77_row19_col0\" class=\"data row19 col0\" >Є 50 рівнів в цілому, кожен важче, ніж попередній. інструкції</td>\n",
       "      <td id=\"T_49a77_row19_col1\" class=\"data row19 col1\" >Є 50 рівнів в цілому , кожен важче , ніж попередній . інструкції</td>\n",
       "      <td id=\"T_49a77_row19_col2\" class=\"data row19 col2\" >Є<span style='background-color: #FFFF88;'> </span>50<span style='background-color: #FFFF88;'> </span>рівнів<span style='background-color: #FFFF88;'> </span>в<span style='background-color: #FFFF88;'> </span>цілому<span style='background-color: #FFFF88;'> </span>,<span style='background-color: #FFFF88;'> </span>кожен<span style='background-color: #FFFF88;'> </span>важче<span style='background-color: #FFFF88;'> </span>,<span style='background-color: #FFFF88;'> </span>ніж<span style='background-color: #FFFF88;'> </span>попередній<div style='display:inline-block;background-color: #FF0000;width:2px;margin-right:-2px;height:1.5em;'></div>.<span style='background-color: #FFFF88;'> </span>інструкції</td>\n",
       "      <td id=\"T_49a77_row19_col3\" class=\"data row19 col3\" >Є 50 рівнів в цілому , кожен важче , ніж попередній. інструкції</td>\n",
       "    </tr>\n",
       "  </tbody>\n",
       "</table>\n"
      ],
      "text/plain": [
       "<pandas.io.formats.style.Styler at 0x7f4f7041fa90>"
      ]
     },
     "execution_count": 192,
     "metadata": {},
     "output_type": "execute_result"
    }
   ],
   "source": [
    "# show some examples for these differences\n",
    "df_filtered = df[df.moses_uk != df.tokenize_uk][:20]\n",
    "diffs = df_filtered.apply(lambda row: display_diff(difflib.SequenceMatcher(None, row[\"tokenize_uk\"], row[\"moses_uk\"])), axis=1)\n",
    "pd.DataFrame({\n",
    "    \"original\": df_filtered.original,\n",
    "    \"tokenize_uk\": df_filtered.tokenize_uk,\n",
    "    \"tokenize_uk versus moses_uk\": diffs,\n",
    "    \"moses_uk\": df_filtered.moses_uk,\n",
    "}).style"
   ]
  },
  {
   "cell_type": "markdown",
   "id": "7bd85df2",
   "metadata": {},
   "source": [
    "# Observations\n",
    "\n",
    "- [ex1] moses_uk (and moses_en) adds @ around hyphens inside words\n",
    "- [ex5, 55, 58] tokenize_uk separates  \"км.\", \"ст.\", \"р.\" similar to moses_en\n",
    "- [ex18,32,46,...] tokenize_uk does not separate apostrophe inside word (eg. \"здоров'я\" is tokenized as a single word)\n",
    "- [ex12,32]~~something is going on with apostrophes and quotation marks, but not sure what? (diff seems to think they are getting replaced but it seems to me that it is the same UTF-8 character, maybe bug)~~ the apostrophes and quotation marks are getting escaped, which we do not see in the HTML output view.\n",
    "- [ex46,83] in case of multiple sentences in one example, tokenize_uk separates the dot, Moses does not.\n",
    "- [ex29] on the other hand, tokenize_uk seems to separate the dot even in case of the leading number of a numbered list"
   ]
  },
  {
   "cell_type": "markdown",
   "id": "37e0838d",
   "metadata": {},
   "source": [
    "# Statistics: Which tokenizer is the most granular?"
   ]
  },
  {
   "cell_type": "code",
   "execution_count": 213,
   "id": "9140cb5b",
   "metadata": {},
   "outputs": [
    {
     "data": {
      "text/html": [
       "<div>\n",
       "<style scoped>\n",
       "    .dataframe tbody tr th:only-of-type {\n",
       "        vertical-align: middle;\n",
       "    }\n",
       "\n",
       "    .dataframe tbody tr th {\n",
       "        vertical-align: top;\n",
       "    }\n",
       "\n",
       "    .dataframe thead th {\n",
       "        text-align: right;\n",
       "    }\n",
       "</style>\n",
       "<table border=\"1\" class=\"dataframe\">\n",
       "  <thead>\n",
       "    <tr style=\"text-align: right;\">\n",
       "      <th></th>\n",
       "      <th>original</th>\n",
       "      <th>tokenize_uk</th>\n",
       "      <th>moses_uk</th>\n",
       "      <th>moses_en</th>\n",
       "    </tr>\n",
       "  </thead>\n",
       "  <tbody>\n",
       "    <tr>\n",
       "      <th>0</th>\n",
       "      <td>Застосування замороженого полуничного порошку:</td>\n",
       "      <td>Застосування замороженого полуничного порошку :</td>\n",
       "      <td>Застосування замороженого полуничного порошку :</td>\n",
       "      <td>Застосування замороженого полуничного порошку :</td>\n",
       "    </tr>\n",
       "    <tr>\n",
       "      <th>1</th>\n",
       "      <td>Elizabeth січень 18, 20172017-01-18T00:01:44+00:002017-08-22T20:32:29+00:00 підприємництво</td>\n",
       "      <td>Elizabeth січень 18 , 20172017-01-18 T00 : 01 : 44 +00 : 002017-08-22 T20 : 32 : 29 +00 : 00 підприємництво</td>\n",
       "      <td>Elizabeth січень 18 , 20172017 @-@ 01 @-@ 18T00 : 01 : 44 + 00 : 002017 @-@ 08 @-@ 22T20 : 32 : 29 + 00 : 00 підприємництво</td>\n",
       "      <td>Elizabeth січень 18 , 20172017 @-@ 01 @-@ 18T00 : 01 : 44 + 00 : 002017 @-@ 08 @-@ 22T20 : 32 : 29 + 00 : 00 підприємництво</td>\n",
       "    </tr>\n",
       "    <tr>\n",
       "      <th>2</th>\n",
       "      <td>Поле для гольфу (у межах 3 км), відкритий басейн, тенісні корти, більярд, сад готелю є ідеальним місцем для вдпочинку після напруженого дня.</td>\n",
       "      <td>Поле для гольфу ( у межах 3 км ) , відкритий басейн , тенісні корти , більярд , сад готелю є ідеальним місцем для вдпочинку після напруженого дня .</td>\n",
       "      <td>Поле для гольфу ( у межах 3 км ) , відкритий басейн , тенісні корти , більярд , сад готелю є ідеальним місцем для вдпочинку після напруженого дня .</td>\n",
       "      <td>Поле для гольфу ( у межах 3 км ) , відкритий басейн , тенісні корти , більярд , сад готелю є ідеальним місцем для вдпочинку після напруженого дня .</td>\n",
       "    </tr>\n",
       "    <tr>\n",
       "      <th>3</th>\n",
       "      <td>Суддя: Джек Моватт (Шотландія)</td>\n",
       "      <td>Суддя : Джек Моватт ( Шотландія )</td>\n",
       "      <td>Суддя : Джек Моватт ( Шотландія )</td>\n",
       "      <td>Суддя : Джек Моватт ( Шотландія )</td>\n",
       "    </tr>\n",
       "    <tr>\n",
       "      <th>4</th>\n",
       "      <td>KB2 SOFT Простий калькулятор для споживання і відключення вартості (паливо + електричний).</td>\n",
       "      <td>KB2 SOFT Простий калькулятор для споживання і відключення вартості ( паливо + електричний ) .</td>\n",
       "      <td>KB2 SOFT Простий калькулятор для споживання і відключення вартості ( паливо + електричний ) .</td>\n",
       "      <td>KB2 SOFT Простий калькулятор для споживання і відключення вартості ( паливо + електричний ) .</td>\n",
       "    </tr>\n",
       "    <tr>\n",
       "      <th>...</th>\n",
       "      <td>...</td>\n",
       "      <td>...</td>\n",
       "      <td>...</td>\n",
       "      <td>...</td>\n",
       "    </tr>\n",
       "    <tr>\n",
       "      <th>9995</th>\n",
       "      <td>Я знаю і бачу це.</td>\n",
       "      <td>Я знаю і бачу це .</td>\n",
       "      <td>Я знаю і бачу це .</td>\n",
       "      <td>Я знаю і бачу це .</td>\n",
       "    </tr>\n",
       "    <tr>\n",
       "      <th>9996</th>\n",
       "      <td>5-зіркові готелі Сонячного Берега</td>\n",
       "      <td>5-зіркові готелі Сонячного Берега</td>\n",
       "      <td>5 @-@ зіркові готелі Сонячного Берега</td>\n",
       "      <td>5 @-@ зіркові готелі Сонячного Берега</td>\n",
       "    </tr>\n",
       "    <tr>\n",
       "      <th>9997</th>\n",
       "      <td>Моя тобі порада... починай бухати як слід.</td>\n",
       "      <td>Моя тобі порада ... починай бухати як слід .</td>\n",
       "      <td>Моя тобі порада ... починай бухати як слід .</td>\n",
       "      <td>Моя тобі порада ... починай бухати як слід .</td>\n",
       "    </tr>\n",
       "    <tr>\n",
       "      <th>9998</th>\n",
       "      <td>Тут ви можете написати все що вам подобається, або навпаки не дуже подобається в нашому сайті.</td>\n",
       "      <td>Тут ви можете написати все що вам подобається , або навпаки не дуже подобається в нашому сайті .</td>\n",
       "      <td>Тут ви можете написати все що вам подобається , або навпаки не дуже подобається в нашому сайті .</td>\n",
       "      <td>Тут ви можете написати все що вам подобається , або навпаки не дуже подобається в нашому сайті .</td>\n",
       "    </tr>\n",
       "    <tr>\n",
       "      <th>9999</th>\n",
       "      <td>Успіх в сучасному світовому ринку залежить від наявності здатних і добре продумане співробітників, які можуть багатозадачною для задоволення різноманітних проблем.</td>\n",
       "      <td>Успіх в сучасному світовому ринку залежить від наявності здатних і добре продумане співробітників , які можуть багатозадачною для задоволення різноманітних проблем .</td>\n",
       "      <td>Успіх в сучасному світовому ринку залежить від наявності здатних і добре продумане співробітників , які можуть багатозадачною для задоволення різноманітних проблем .</td>\n",
       "      <td>Успіх в сучасному світовому ринку залежить від наявності здатних і добре продумане співробітників , які можуть багатозадачною для задоволення різноманітних проблем .</td>\n",
       "    </tr>\n",
       "  </tbody>\n",
       "</table>\n",
       "<p>10000 rows × 4 columns</p>\n",
       "</div>"
      ],
      "text/plain": [
       "                                                                                                                                                                 original  \\\n",
       "0                                                                                                                          Застосування замороженого полуничного порошку:   \n",
       "1                                                                              Elizabeth січень 18, 20172017-01-18T00:01:44+00:002017-08-22T20:32:29+00:00 підприємництво   \n",
       "2                            Поле для гольфу (у межах 3 км), відкритий басейн, тенісні корти, більярд, сад готелю є ідеальним місцем для вдпочинку після напруженого дня.   \n",
       "3                                                                                                                                          Суддя: Джек Моватт (Шотландія)   \n",
       "4                                                                              KB2 SOFT Простий калькулятор для споживання і відключення вартості (паливо + електричний).   \n",
       "...                                                                                                                                                                   ...   \n",
       "9995                                                                                                                                                    Я знаю і бачу це.   \n",
       "9996                                                                                                                                    5-зіркові готелі Сонячного Берега   \n",
       "9997                                                                                                                           Моя тобі порада... починай бухати як слід.   \n",
       "9998                                                                       Тут ви можете написати все що вам подобається, або навпаки не дуже подобається в нашому сайті.   \n",
       "9999  Успіх в сучасному світовому ринку залежить від наявності здатних і добре продумане співробітників, які можуть багатозадачною для задоволення різноманітних проблем.   \n",
       "\n",
       "                                                                                                                                                                tokenize_uk  \\\n",
       "0                                                                                                                           Застосування замороженого полуничного порошку :   \n",
       "1                                                               Elizabeth січень 18 , 20172017-01-18 T00 : 01 : 44 +00 : 002017-08-22 T20 : 32 : 29 +00 : 00 підприємництво   \n",
       "2                       Поле для гольфу ( у межах 3 км ) , відкритий басейн , тенісні корти , більярд , сад готелю є ідеальним місцем для вдпочинку після напруженого дня .   \n",
       "3                                                                                                                                         Суддя : Джек Моватт ( Шотландія )   \n",
       "4                                                                             KB2 SOFT Простий калькулятор для споживання і відключення вартості ( паливо + електричний ) .   \n",
       "...                                                                                                                                                                     ...   \n",
       "9995                                                                                                                                                     Я знаю і бачу це .   \n",
       "9996                                                                                                                                      5-зіркові готелі Сонячного Берега   \n",
       "9997                                                                                                                           Моя тобі порада ... починай бухати як слід .   \n",
       "9998                                                                       Тут ви можете написати все що вам подобається , або навпаки не дуже подобається в нашому сайті .   \n",
       "9999  Успіх в сучасному світовому ринку залежить від наявності здатних і добре продумане співробітників , які можуть багатозадачною для задоволення різноманітних проблем .   \n",
       "\n",
       "                                                                                                                                                                   moses_uk  \\\n",
       "0                                                                                                                           Застосування замороженого полуничного порошку :   \n",
       "1                                               Elizabeth січень 18 , 20172017 @-@ 01 @-@ 18T00 : 01 : 44 + 00 : 002017 @-@ 08 @-@ 22T20 : 32 : 29 + 00 : 00 підприємництво   \n",
       "2                       Поле для гольфу ( у межах 3 км ) , відкритий басейн , тенісні корти , більярд , сад готелю є ідеальним місцем для вдпочинку після напруженого дня .   \n",
       "3                                                                                                                                         Суддя : Джек Моватт ( Шотландія )   \n",
       "4                                                                             KB2 SOFT Простий калькулятор для споживання і відключення вартості ( паливо + електричний ) .   \n",
       "...                                                                                                                                                                     ...   \n",
       "9995                                                                                                                                                     Я знаю і бачу це .   \n",
       "9996                                                                                                                                  5 @-@ зіркові готелі Сонячного Берега   \n",
       "9997                                                                                                                           Моя тобі порада ... починай бухати як слід .   \n",
       "9998                                                                       Тут ви можете написати все що вам подобається , або навпаки не дуже подобається в нашому сайті .   \n",
       "9999  Успіх в сучасному світовому ринку залежить від наявності здатних і добре продумане співробітників , які можуть багатозадачною для задоволення різноманітних проблем .   \n",
       "\n",
       "                                                                                                                                                                   moses_en  \n",
       "0                                                                                                                           Застосування замороженого полуничного порошку :  \n",
       "1                                               Elizabeth січень 18 , 20172017 @-@ 01 @-@ 18T00 : 01 : 44 + 00 : 002017 @-@ 08 @-@ 22T20 : 32 : 29 + 00 : 00 підприємництво  \n",
       "2                       Поле для гольфу ( у межах 3 км ) , відкритий басейн , тенісні корти , більярд , сад готелю є ідеальним місцем для вдпочинку після напруженого дня .  \n",
       "3                                                                                                                                         Суддя : Джек Моватт ( Шотландія )  \n",
       "4                                                                             KB2 SOFT Простий калькулятор для споживання і відключення вартості ( паливо + електричний ) .  \n",
       "...                                                                                                                                                                     ...  \n",
       "9995                                                                                                                                                     Я знаю і бачу це .  \n",
       "9996                                                                                                                                  5 @-@ зіркові готелі Сонячного Берега  \n",
       "9997                                                                                                                           Моя тобі порада ... починай бухати як слід .  \n",
       "9998                                                                       Тут ви можете написати все що вам подобається , або навпаки не дуже подобається в нашому сайті .  \n",
       "9999  Успіх в сучасному світовому ринку залежить від наявності здатних і добре продумане співробітників , які можуть багатозадачною для задоволення різноманітних проблем .  \n",
       "\n",
       "[10000 rows x 4 columns]"
      ]
     },
     "execution_count": 213,
     "metadata": {},
     "output_type": "execute_result"
    }
   ],
   "source": [
    "df"
   ]
  },
  {
   "cell_type": "code",
   "execution_count": 208,
   "id": "5adc1f9b",
   "metadata": {},
   "outputs": [
    {
     "data": {
      "text/html": [
       "<div>\n",
       "<style scoped>\n",
       "    .dataframe tbody tr th:only-of-type {\n",
       "        vertical-align: middle;\n",
       "    }\n",
       "\n",
       "    .dataframe tbody tr th {\n",
       "        vertical-align: top;\n",
       "    }\n",
       "\n",
       "    .dataframe thead th {\n",
       "        text-align: right;\n",
       "    }\n",
       "</style>\n",
       "<table border=\"1\" class=\"dataframe\">\n",
       "  <thead>\n",
       "    <tr style=\"text-align: right;\">\n",
       "      <th></th>\n",
       "      <th>original</th>\n",
       "      <th>tokenize_uk</th>\n",
       "      <th>moses_uk</th>\n",
       "      <th>moses_en</th>\n",
       "    </tr>\n",
       "  </thead>\n",
       "  <tbody>\n",
       "    <tr>\n",
       "      <th>count</th>\n",
       "      <td>10000.000000</td>\n",
       "      <td>10000.000000</td>\n",
       "      <td>10000.000000</td>\n",
       "      <td>10000.000000</td>\n",
       "    </tr>\n",
       "    <tr>\n",
       "      <th>mean</th>\n",
       "      <td>10.375000</td>\n",
       "      <td>12.573100</td>\n",
       "      <td>12.744000</td>\n",
       "      <td>12.688900</td>\n",
       "    </tr>\n",
       "    <tr>\n",
       "      <th>std</th>\n",
       "      <td>7.813941</td>\n",
       "      <td>9.546768</td>\n",
       "      <td>9.717063</td>\n",
       "      <td>9.666595</td>\n",
       "    </tr>\n",
       "    <tr>\n",
       "      <th>min</th>\n",
       "      <td>1.000000</td>\n",
       "      <td>1.000000</td>\n",
       "      <td>1.000000</td>\n",
       "      <td>1.000000</td>\n",
       "    </tr>\n",
       "    <tr>\n",
       "      <th>25%</th>\n",
       "      <td>5.000000</td>\n",
       "      <td>6.000000</td>\n",
       "      <td>6.000000</td>\n",
       "      <td>6.000000</td>\n",
       "    </tr>\n",
       "    <tr>\n",
       "      <th>50%</th>\n",
       "      <td>8.000000</td>\n",
       "      <td>10.000000</td>\n",
       "      <td>10.000000</td>\n",
       "      <td>10.000000</td>\n",
       "    </tr>\n",
       "    <tr>\n",
       "      <th>75%</th>\n",
       "      <td>14.000000</td>\n",
       "      <td>17.000000</td>\n",
       "      <td>17.000000</td>\n",
       "      <td>17.000000</td>\n",
       "    </tr>\n",
       "    <tr>\n",
       "      <th>max</th>\n",
       "      <td>49.000000</td>\n",
       "      <td>64.000000</td>\n",
       "      <td>79.000000</td>\n",
       "      <td>79.000000</td>\n",
       "    </tr>\n",
       "  </tbody>\n",
       "</table>\n",
       "</div>"
      ],
      "text/plain": [
       "           original   tokenize_uk      moses_uk      moses_en\n",
       "count  10000.000000  10000.000000  10000.000000  10000.000000\n",
       "mean      10.375000     12.573100     12.744000     12.688900\n",
       "std        7.813941      9.546768      9.717063      9.666595\n",
       "min        1.000000      1.000000      1.000000      1.000000\n",
       "25%        5.000000      6.000000      6.000000      6.000000\n",
       "50%        8.000000     10.000000     10.000000     10.000000\n",
       "75%       14.000000     17.000000     17.000000     17.000000\n",
       "max       49.000000     64.000000     79.000000     79.000000"
      ]
     },
     "execution_count": 208,
     "metadata": {},
     "output_type": "execute_result"
    }
   ],
   "source": [
    "# number of tokens for each tokenized set\n",
    "df.applymap(lambda x: len(x.split())).describe()"
   ]
  },
  {
   "cell_type": "markdown",
   "id": "c52eb65e",
   "metadata": {},
   "source": [
    "it seems that moses_uk is the most granular = splits into most tokens on average"
   ]
  },
  {
   "cell_type": "code",
   "execution_count": 155,
   "id": "6c4f4235",
   "metadata": {
    "scrolled": true
   },
   "outputs": [],
   "source": [
    "# old cells below"
   ]
  },
  {
   "cell_type": "code",
   "execution_count": 212,
   "id": "80dc4f24",
   "metadata": {},
   "outputs": [
    {
     "data": {
      "text/plain": [
       "7840"
      ]
     },
     "execution_count": 212,
     "metadata": {},
     "output_type": "execute_result"
    }
   ],
   "source": [
    "# how many outputs are the same for all tokenizers\n",
    "all_same = (df.tokenize_uk == df.moses_uk) & (df.moses_uk == df.moses_en)\n",
    "sum(all_same)"
   ]
  },
  {
   "cell_type": "code",
   "execution_count": 193,
   "id": "9cc129b4",
   "metadata": {
    "scrolled": false
   },
   "outputs": [],
   "source": [
    "# this works: pd.DataFrame({\"test\": [\"<b>Hello</b>\"]}).style\n",
    "# here I show and highlight all differences:\n",
    "# all_same = (df.tokenize_uk == df.moses_uk) & (df.moses_uk == df.moses_en)\n",
    "# df_filtered = df[~all_same]\n",
    "# df_filtered[\"original_html\"] = df_filtered[\"original\"].map(display_spaces)\n",
    "# df_filtered[\"tokenize_uk_html\"] = df_filtered.apply(lambda row: display_diff(difflib.SequenceMatcher(None, row[\"original\"], row[\"tokenize_uk\"])), axis=1)\n",
    "# df_filtered[\"tokenizeuk_VS_mosesuk\"] = df_filtered.apply(lambda row: display_diff(difflib.SequenceMatcher(None, row[\"tokenize_uk\"], row[\"moses_uk\"])), axis=1)\n",
    "# df_filtered[\"mosesen_VS_mosesuk\"] = df_filtered.apply(lambda row: display_diff(difflib.SequenceMatcher(None, row[\"moses_uk\"], row[\"moses_en\"])), axis=1)\n",
    "# df_filtered[:10].style.hide_columns([\"original\", \"tokenize_uk\", \"moses_uk\", \"moses_en\"])"
   ]
  }
 ],
 "metadata": {
  "kernelspec": {
   "display_name": "Python 3 (ipykernel)",
   "language": "python",
   "name": "python3"
  },
  "language_info": {
   "codemirror_mode": {
    "name": "ipython",
    "version": 3
   },
   "file_extension": ".py",
   "mimetype": "text/x-python",
   "name": "python",
   "nbconvert_exporter": "python",
   "pygments_lexer": "ipython3",
   "version": "3.11.6"
  }
 },
 "nbformat": 4,
 "nbformat_minor": 5
}
