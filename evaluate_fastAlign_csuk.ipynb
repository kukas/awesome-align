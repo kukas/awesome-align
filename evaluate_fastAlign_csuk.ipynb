{
 "cells": [
  {
   "cell_type": "code",
   "execution_count": 63,
   "id": "d8d1cb60",
   "metadata": {},
   "outputs": [],
   "source": [
    "import requests\n",
    "import os\n",
    "from data.annotated.convert_annotations_utils import Alignment"
   ]
  },
  {
   "cell_type": "code",
   "execution_count": 64,
   "id": "438f0921",
   "metadata": {},
   "outputs": [],
   "source": [
    "def align_texts_fastalign(source_text, target_text, langpair):\n",
    "    url = 'https://quest.ms.mff.cuni.cz/ptakopet-mt380/align/'+langpair\n",
    "    headers = {\n",
    "        'Content-Type': 'application/json',\n",
    "    }\n",
    "    data = {\n",
    "        'src_tokens': source_text.split(),\n",
    "        'trg_tokens': target_text.split(),\n",
    "    }\n",
    "\n",
    "    response = requests.post(url, headers=headers, json=data)\n",
    "\n",
    "    if response.status_code == 200:\n",
    "        alignment = response.json()\n",
    "        alignment[\"alignment\"] = [[int(idx) for idx in pair.split(\"-\")] for pair in alignment[\"alignment\"].split()]\n",
    "        return alignment\n",
    "    else:\n",
    "        print(f\"Error: {response.status_code}\")\n",
    "        print(response.text)\n",
    "\n",
    "\n",
    "def align_texts(source_text, target_text, langpair):\n",
    "    url = 'https://quest.ms.mff.cuni.cz/ptakopet-mt380/align/cs-uk?method=awesome'\n",
    "    headers = {\n",
    "        'Content-Type': 'application/json',\n",
    "    }\n",
    "    data = {\n",
    "        'src_text': source_text,\n",
    "        'trg_text': target_text,\n",
    "    }\n",
    "\n",
    "    response = requests.post(url, headers=headers, json=data)\n",
    "\n",
    "    if response.status_code == 200:\n",
    "        return response.json()\n",
    "    else:\n",
    "        print(f\"Error: {response.status_code}\")\n",
    "        print(response.text)\n",
    "\n",
    "def write_alignments(alignments, output_dir, filename):\n",
    "    os.makedirs(output_dir, exist_ok=True)\n",
    "    with open(os.path.join(output_dir, filename), \"w\") as output:\n",
    "        for alignment_result in alignments:\n",
    "            alignment_string_pairs = [\"-\".join(map(str, al)) for al in alignment_result[\"alignment\"]]\n",
    "            alignment_string = \" \".join(alignment_string_pairs)\n",
    "            output.write(alignment_string + \"\\n\")"
   ]
  },
  {
   "cell_type": "code",
   "execution_count": 72,
   "id": "f2298546",
   "metadata": {},
   "outputs": [
    {
     "name": "stdout",
     "output_type": "stream",
     "text": [
      "CPU times: user 7.67 s, sys: 54.5 ms, total: 7.72 s\n",
      "Wall time: 41 s\n"
     ]
    }
   ],
   "source": [
    "%%time\n",
    "alignments = []\n",
    "with open(\"./data/annotated/cs-uk/csuk.src-tgt\") as sentences:\n",
    "    for pair in sentences:\n",
    "        src, tgt = pair.strip().split(\" ||| \")\n",
    "        alignment = align_texts(src, tgt, \"cs-uk\")\n",
    "        alignments.append(alignment)"
   ]
  },
  {
   "cell_type": "code",
   "execution_count": 71,
   "id": "69fb04c6",
   "metadata": {},
   "outputs": [
    {
     "name": "stdout",
     "output_type": "stream",
     "text": [
      "CPU times: user 7.25 s, sys: 67.5 ms, total: 7.32 s\n",
      "Wall time: 8.37 s\n"
     ]
    }
   ],
   "source": [
    "%%time\n",
    "alignments = []\n",
    "with open(\"./data/annotated/cs-uk/csuk.src-tgt\") as sentences:\n",
    "    for pair in sentences:\n",
    "        src, tgt = pair.strip().split(\" ||| \")\n",
    "        alignment = align_texts_fastalign(src, tgt, \"cs-uk\")\n",
    "        alignments.append(alignment)"
   ]
  },
  {
   "cell_type": "code",
   "execution_count": 66,
   "id": "4bc1d8be",
   "metadata": {},
   "outputs": [],
   "source": [
    "write_alignments(alignments, \"./finetune/fastAlign\", \"csuk.fastAlign.out\")"
   ]
  },
  {
   "cell_type": "code",
   "execution_count": 67,
   "id": "c1822d3b",
   "metadata": {},
   "outputs": [],
   "source": [
    "alignments = []\n",
    "with open(\"./data/annotated/en-cs/encs.src-tgt\") as sentences:\n",
    "    for pair in sentences:\n",
    "        src, tgt = pair.strip().split(\" ||| \")\n",
    "        alignment = align_texts_fastalign(src, tgt, \"en-cs\")\n",
    "        alignments.append(alignment)"
   ]
  },
  {
   "cell_type": "code",
   "execution_count": 68,
   "id": "b65a3a63",
   "metadata": {},
   "outputs": [],
   "source": [
    "write_alignments(alignments, \"./finetune/fastAlign\", \"encs.fastAlign.out\")"
   ]
  },
  {
   "cell_type": "code",
   "execution_count": 69,
   "id": "e84f81fb",
   "metadata": {},
   "outputs": [],
   "source": [
    "from notebook_utils import evaluate"
   ]
  },
  {
   "cell_type": "code",
   "execution_count": 70,
   "id": "5ccf986a",
   "metadata": {},
   "outputs": [
    {
     "data": {
      "text/plain": [
       "(0.2591642228739003,\n",
       " 0.6748582230623819,\n",
       " 0.8326029798422436,\n",
       " 0.7454771856285451)"
      ]
     },
     "execution_count": 70,
     "metadata": {},
     "output_type": "execute_result"
    }
   ],
   "source": [
    "evaluate(\"./data/annotated/cs-uk/csuk.gold\", \"./finetune/fastAlign/csuk.fastAlign.out\", [])"
   ]
  },
  {
   "cell_type": "code",
   "execution_count": 53,
   "id": "46b2fd12",
   "metadata": {},
   "outputs": [
    {
     "data": {
      "text/plain": [
       "(0.18151571164510172,\n",
       " 0.7921810699588477,\n",
       " 0.8492381716118684,\n",
       " 0.8197179445680354)"
      ]
     },
     "execution_count": 53,
     "metadata": {},
     "output_type": "execute_result"
    }
   ],
   "source": [
    "evaluate(\"./data/annotated/en-cs/encs.gold\", \"./finetune/fastAlign/encs.fastAlign.out\", [])"
   ]
  }
 ],
 "metadata": {
  "kernelspec": {
   "display_name": "Python 3 (ipykernel)",
   "language": "python",
   "name": "python3"
  },
  "language_info": {
   "codemirror_mode": {
    "name": "ipython",
    "version": 3
   },
   "file_extension": ".py",
   "mimetype": "text/x-python",
   "name": "python",
   "nbconvert_exporter": "python",
   "pygments_lexer": "ipython3",
   "version": "3.10.12"
  }
 },
 "nbformat": 4,
 "nbformat_minor": 5
}
